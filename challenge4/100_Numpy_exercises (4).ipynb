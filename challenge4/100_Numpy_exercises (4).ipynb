{
 "cells": [
  {
   "cell_type": "markdown",
   "id": "f44a2f2b",
   "metadata": {},
   "source": [
    "# 100 numpy exercises\n",
    "\n"
   ]
  },
  {
   "cell_type": "markdown",
   "id": "96443564",
   "metadata": {},
   "source": [
    "#### 1. Import the numpy package under the name `np` (★☆☆)"
   ]
  },
  {
   "cell_type": "code",
   "execution_count": 1,
   "id": "ffe1047e",
   "metadata": {},
   "outputs": [],
   "source": [
    "import numpy as np"
   ]
  },
  {
   "cell_type": "markdown",
   "id": "c807bf1d",
   "metadata": {},
   "source": [
    "#### 2. Print the numpy version and the configuration (★☆☆)"
   ]
  },
  {
   "cell_type": "code",
   "execution_count": 9,
   "id": "f396b717",
   "metadata": {},
   "outputs": [
    {
     "name": "stdout",
     "output_type": "stream",
     "text": [
      "numoy version:  2.2.6\n"
     ]
    }
   ],
   "source": [
    "print(\"numpy version: \",np.__version__) "
   ]
  },
  {
   "cell_type": "markdown",
   "id": "572c1bdb",
   "metadata": {},
   "source": [
    "#### 3. Create a null vector of size 10 (★☆☆)"
   ]
  },
  {
   "cell_type": "code",
   "execution_count": 10,
   "id": "31c9f6a5",
   "metadata": {},
   "outputs": [
    {
     "name": "stdout",
     "output_type": "stream",
     "text": [
      "[0. 0. 0. 0. 0. 0. 0. 0. 0. 0.]\n"
     ]
    }
   ],
   "source": [
    "null_vector1 = np.zeros(10)\n",
    "print(null_vector)"
   ]
  },
  {
   "cell_type": "markdown",
   "id": "337e6e36",
   "metadata": {},
   "source": [
    "#### 4. How to find the memory size of any array (★☆☆)"
   ]
  },
  {
   "cell_type": "code",
   "execution_count": 11,
   "id": "31e8ec2e",
   "metadata": {},
   "outputs": [
    {
     "name": "stdout",
     "output_type": "stream",
     "text": [
      "memory size :  float64\n",
      "item size :  8\n"
     ]
    }
   ],
   "source": [
    "print(\"item size : \", null_vector.itemsize)"
   ]
  },
  {
   "cell_type": "markdown",
   "id": "166079c8",
   "metadata": {},
   "source": [
    "#### 5. How to get the documentation of the numpy add function from the command line? (★☆☆)"
   ]
  },
  {
   "cell_type": "raw",
   "id": "079201e0-c86c-443a-bb59-9bf4423c9a15",
   "metadata": {},
   "source": [
    "in the commande line we can use this  [python -c \"import numpy as np; help(np.add)\"]"
   ]
  },
  {
   "cell_type": "code",
   "execution_count": null,
   "id": "3beeedf2-2474-4820-bc76-cebad09486c2",
   "metadata": {},
   "outputs": [],
   "source": [
    "help(np.add)"
   ]
  },
  {
   "cell_type": "markdown",
   "id": "3add7101",
   "metadata": {},
   "source": [
    "#### 6. Create a null vector of size 10 but the fifth value which is 1 (★☆☆)"
   ]
  },
  {
   "cell_type": "code",
   "execution_count": 17,
   "id": "2edf3c42",
   "metadata": {},
   "outputs": [
    {
     "name": "stdout",
     "output_type": "stream",
     "text": [
      "[0. 0. 0. 0. 0. 0. 0. 0. 0. 1.]\n"
     ]
    }
   ],
   "source": [
    "null_vector2 = np.zeros(10)\n",
    "null_vector2[-1] = 1\n",
    "print(null_vector2 )"
   ]
  },
  {
   "cell_type": "markdown",
   "id": "cfc46304",
   "metadata": {},
   "source": [
    "#### 7. Create a vector with values ranging from 10 to 49 (★☆☆)"
   ]
  },
  {
   "cell_type": "raw",
   "id": "998cb8a1-98f0-4604-88d4-e5b4d2d4cc19",
   "metadata": {},
   "source": [
    "using the arange function , this take 2 values (start , end) , the end value is exclusif \n",
    "and it genrate values from the defined start to the end -1 "
   ]
  },
  {
   "cell_type": "code",
   "execution_count": 20,
   "id": "d8b86640",
   "metadata": {},
   "outputs": [
    {
     "name": "stdout",
     "output_type": "stream",
     "text": [
      "[10 11 12 13 14 15 16 17 18 19 20 21 22 23 24 25 26 27 28 29 30 31 32 33\n",
      " 34 35 36 37 38 39 40 41 42 43 44 45 46 47 48 49]\n"
     ]
    }
   ],
   "source": [
    "ranging_values = np.arange(10,50)\n",
    "print(ranging_values)"
   ]
  },
  {
   "cell_type": "markdown",
   "id": "0cc200be",
   "metadata": {},
   "source": [
    "#### 8. Reverse a vector (first element becomes last) (★☆☆)"
   ]
  },
  {
   "cell_type": "raw",
   "id": "99356813-c6dc-43be-9795-af3f8fd82dc4",
   "metadata": {},
   "source": [
    "numpy.flip(m, axis=None) | m is Input array | axis : None or int or tuple of ints, optional"
   ]
  },
  {
   "cell_type": "code",
   "execution_count": 24,
   "id": "1f54e865-006b-41bc-8b06-2b990d6d244d",
   "metadata": {},
   "outputs": [
    {
     "name": "stdout",
     "output_type": "stream",
     "text": [
      "[49 48 47 46 45 44 43 42 41 40 39 38 37 36 35 34 33 32 31 30 29 28 27 26\n",
      " 25 24 23 22 21 20 19 18 17 16 15 14 13 12 11 10]\n"
     ]
    }
   ],
   "source": [
    "flip_array = np.flip(ranging_values)\n",
    "print(flip_array)"
   ]
  },
  {
   "cell_type": "markdown",
   "id": "29d9ede4",
   "metadata": {},
   "source": [
    "#### 9. Create a 3x3 matrix with values ranging from 0 to 8 (★☆☆)"
   ]
  },
  {
   "cell_type": "code",
   "execution_count": 78,
   "id": "d9e39043",
   "metadata": {},
   "outputs": [
    {
     "name": "stdout",
     "output_type": "stream",
     "text": [
      "[[1 2 3]\n",
      " [4 5 6]\n",
      " [7 8 9]]\n"
     ]
    }
   ],
   "source": [
    "D3 = np.array([[1,2,3] , [4,5,6] , [7,8,9]])\n",
    "print(D3)"
   ]
  },
  {
   "cell_type": "markdown",
   "id": "88905ceb",
   "metadata": {},
   "source": [
    "#### 10. Find indices of non-zero elements from [1,2,0,0,4,0] (★☆☆)"
   ]
  },
  {
   "cell_type": "code",
   "execution_count": 79,
   "id": "b2f3c90a",
   "metadata": {},
   "outputs": [
    {
     "name": "stdout",
     "output_type": "stream",
     "text": [
      "[1 2 0 0 4 0]\n",
      "(array([0, 1, 4]),)\n"
     ]
    }
   ],
   "source": [
    "print(np.array([1,2,0,0,4,0]))\n",
    "nonZero = np.nonzero(np.array([1,2,0,0,4,0]))\n",
    "print(nonZero)"
   ]
  },
  {
   "cell_type": "markdown",
   "id": "49603e91",
   "metadata": {},
   "source": [
    "#### 11. Create a 3x3 identity matrix (★☆☆)"
   ]
  },
  {
   "cell_type": "code",
   "execution_count": 80,
   "id": "5b607b5c",
   "metadata": {},
   "outputs": [
    {
     "name": "stdout",
     "output_type": "stream",
     "text": [
      "identityMtrice =  [[1. 0. 0.]\n",
      " [0. 1. 0.]\n",
      " [0. 0. 1.]]\n"
     ]
    }
   ],
   "source": [
    "print(\"identityMtrice = \" , np.eye(3))"
   ]
  },
  {
   "cell_type": "markdown",
   "id": "e15c249a",
   "metadata": {},
   "source": [
    "#### 12. Create a 3x3x3 array with random values (★☆☆)"
   ]
  },
  {
   "cell_type": "code",
   "execution_count": 81,
   "id": "ab21ed50",
   "metadata": {},
   "outputs": [
    {
     "name": "stdout",
     "output_type": "stream",
     "text": [
      "[[[0.15481208 0.03108625 0.18901442]\n",
      "  [0.41310121 0.12772373 0.26129403]\n",
      "  [0.00321889 0.72440521 0.94928965]]\n",
      "\n",
      " [[0.78270836 0.14309397 0.38722837]\n",
      "  [0.08977247 0.73211442 0.32455308]\n",
      "  [0.41083341 0.67983981 0.38702621]]\n",
      "\n",
      " [[0.24796633 0.16707725 0.59609954]\n",
      "  [0.39103963 0.33056622 0.68909676]\n",
      "  [0.70346872 0.40597507 0.66129546]]]\n"
     ]
    }
   ],
   "source": [
    "d3 = np.random.random((3, 3, 3))\n",
    "print(d3)"
   ]
  },
  {
   "cell_type": "markdown",
   "id": "157a129c",
   "metadata": {},
   "source": [
    "#### 13. Create a 10x10 array with random values and find the minimum and maximum values (★☆☆)"
   ]
  },
  {
   "cell_type": "code",
   "execution_count": 82,
   "id": "c0066de5",
   "metadata": {},
   "outputs": [
    {
     "name": "stdout",
     "output_type": "stream",
     "text": [
      "[[0.54414934 0.49893261 0.01532468 0.32287197 0.57410854 0.98826433\n",
      "  0.67250334 0.70230181 0.42870843 0.91577304]\n",
      " [0.01661878 0.44367732 0.27514295 0.91844397 0.06346364 0.15448159\n",
      "  0.8844714  0.54804966 0.23477573 0.36179594]\n",
      " [0.26023466 0.92388347 0.05743584 0.51397586 0.00525452 0.62855465\n",
      "  0.73947061 0.37085019 0.48083838 0.13515853]\n",
      " [0.4322778  0.8586221  0.61214023 0.74001769 0.71691293 0.22717141\n",
      "  0.09021935 0.82594648 0.57383917 0.25285075]\n",
      " [0.54397729 0.09203816 0.32013765 0.2943986  0.05976904 0.51261298\n",
      "  0.87692593 0.90267676 0.18597251 0.2435745 ]\n",
      " [0.88501997 0.31567096 0.71195908 0.69095266 0.87748594 0.86067657\n",
      "  0.89307762 0.6267461  0.20750513 0.06557082]\n",
      " [0.68811178 0.33750525 0.32008826 0.0952957  0.25212434 0.30234888\n",
      "  0.93374889 0.44802253 0.11431153 0.98924903]\n",
      " [0.5864426  0.97092286 0.54849699 0.71089813 0.04440521 0.89337379\n",
      "  0.47984945 0.21887932 0.4550594  0.87066535]\n",
      " [0.6766597  0.07812628 0.75804274 0.20287518 0.71251158 0.90937101\n",
      "  0.01065265 0.13873295 0.45123145 0.29213397]\n",
      " [0.64103911 0.91328732 0.86979271 0.98702517 0.27968113 0.5173043\n",
      "  0.72434354 0.64019513 0.62625616 0.91967482]]\n",
      "the minimum of 10x10 array is : 0.003218894539367967\n",
      "the maximum of 10x10 array is : 0.9492896541812672\n"
     ]
    }
   ],
   "source": [
    "d10 = np.random.random((10,10))\n",
    "print(d10)\n",
    "print(\"the minimum of 10x10 array is :\", d3.min())\n",
    "print(\"the maximum of 10x10 array is :\", d3.max())"
   ]
  },
  {
   "cell_type": "markdown",
   "id": "d92d7b32",
   "metadata": {},
   "source": [
    "#### 14. Create a random vector of size 30 and find the mean value (★☆☆)"
   ]
  },
  {
   "cell_type": "code",
   "execution_count": 83,
   "id": "9672d023",
   "metadata": {},
   "outputs": [
    {
     "name": "stdout",
     "output_type": "stream",
     "text": [
      "[0.08979517 0.16881377 0.21963236 0.36893494 0.43154574 0.04795629\n",
      " 0.208593   0.27881834 0.02470833 0.5843166  0.43210662 0.445829\n",
      " 0.72012416 0.52898373 0.64026418 0.69281761 0.57769819 0.75847705\n",
      " 0.39466911 0.79713821 0.85466238 0.93960618 0.90281051 0.30718935\n",
      " 0.09046767 0.41784512 0.86473273 0.76109982 0.36919227 0.70529116]\n",
      " la moyeene :  0.48747065289638025\n"
     ]
    }
   ],
   "source": [
    "d30 = np.random.random(30)\n",
    "print(d30)\n",
    "print(\" la moyeene : \", d30.mean())"
   ]
  },
  {
   "cell_type": "markdown",
   "id": "f361efc0",
   "metadata": {},
   "source": [
    "#### 15. Create a 2d array with 1 on the border and 0 inside (★☆☆)"
   ]
  },
  {
   "cell_type": "code",
   "execution_count": 84,
   "id": "a55b6666",
   "metadata": {},
   "outputs": [
    {
     "name": "stdout",
     "output_type": "stream",
     "text": [
      "[[1 1 1 1 1]\n",
      " [1 1 1 1 1]\n",
      " [1 1 1 1 1]\n",
      " [1 1 1 1 1]\n",
      " [1 1 1 1 1]]\n",
      "les bordures avec des uns et au milieu des 0 \n",
      "[[1 1 1 1 1]\n",
      " [1 1 1 1 1]\n",
      " [1 0 0 0 1]\n",
      " [1 0 0 0 1]\n",
      " [1 1 1 1 1]]\n"
     ]
    }
   ],
   "source": [
    "d2 = np.ones((5,5), dtype = int)\n",
    "print(d2)\n",
    "print(\"les bordures avec des uns et au milieu des 0 \")\n",
    "d2[2,1:4] = 0\n",
    "d2[3,1:4] = 0\n",
    "print(d2)\n"
   ]
  },
  {
   "cell_type": "markdown",
   "id": "475808cb",
   "metadata": {},
   "source": [
    "#### 16. How to add a border (filled with 0's) around an existing array? (★☆☆)"
   ]
  },
  {
   "cell_type": "code",
   "execution_count": 85,
   "id": "b2df3a8a",
   "metadata": {},
   "outputs": [
    {
     "name": "stdout",
     "output_type": "stream",
     "text": [
      "[[1. 1. 1.]\n",
      " [1. 0. 1.]\n",
      " [1. 1. 1.]]\n"
     ]
    }
   ],
   "source": [
    "array = np.zeros((3,3))\n",
    "\n",
    "array[0,0:3] = 1\n",
    "array[1,0] = 1\n",
    "array[1,2] = 1\n",
    "array[2,0:3] = 1\n",
    "\n",
    "print(array)\n"
   ]
  },
  {
   "cell_type": "markdown",
   "id": "5f6b8571-b867-44ab-85c4-6c8e159b6b62",
   "metadata": {},
   "source": [
    "### en utilisnt pad function"
   ]
  },
  {
   "cell_type": "code",
   "execution_count": 86,
   "id": "e2c5368d-39f8-4df2-9c81-f4ca21f2db17",
   "metadata": {},
   "outputs": [
    {
     "name": "stdout",
     "output_type": "stream",
     "text": [
      "[[0 0 0 0 0]\n",
      " [0 1 2 3 0]\n",
      " [0 4 5 6 0]\n",
      " [0 0 0 0 0]]\n"
     ]
    }
   ],
   "source": [
    "array = np.array([[1, 2, 3],\n",
    "                     [4, 5, 6]])\n",
    "\n",
    "padded = np.pad(array, pad_width=1, mode='constant', constant_values=0)\n",
    "print(padded)"
   ]
  },
  {
   "cell_type": "markdown",
   "id": "1af07d85",
   "metadata": {},
   "source": [
    "#### 17. What is the result of the following expression? (★☆☆)\n",
    "```python\n",
    "0 * np.nan\n",
    "np.nan == np.nan\n",
    "np.inf > np.nan\n",
    "np.nan - np.nan\n",
    "np.nan in set([np.nan])\n",
    "0.3 == 3 * 0.1\n",
    "```"
   ]
  },
  {
   "cell_type": "code",
   "execution_count": 87,
   "id": "109cf327",
   "metadata": {},
   "outputs": [
    {
     "name": "stdout",
     "output_type": "stream",
     "text": [
      "resul of 0 * np.nan is :  nan\n",
      "resul of 0 * [np.nan == np.nan] is :  False\n",
      "resul of 0 * [np.inf > np.nan] is :  False\n",
      "resul of 0 * [np.nan - np.nan] is :  nan\n",
      "resul of 0 * [np.nan in set([np.nan])] is :  True\n",
      "resul of 0 * [0.3 == 3 * 0.1] is :  False\n"
     ]
    }
   ],
   "source": [
    "print(\"resul of 0 * np.nan is : \", 0 * np.nan)\n",
    "print(\"resul of 0 * [np.nan == np.nan] is : \",np.nan == np.nan)\n",
    "print(\"resul of 0 * [np.inf > np.nan] is : \",np.inf > np.nan)\n",
    "print(\"resul of 0 * [np.nan - np.nan] is : \",np.nan - np.nan)\n",
    "print(\"resul of 0 * [np.nan in set([np.nan])] is : \",np.nan in set([np.nan]))\n",
    "print(\"resul of 0 * [0.3 == 3 * 0.1] is : \",0.3 == 3 * 0.1)\n"
   ]
  },
  {
   "cell_type": "markdown",
   "id": "6a235316",
   "metadata": {},
   "source": [
    "#### 18. Create a 5x5 matrix with values 1,2,3,4 just below the diagonal (★☆☆)"
   ]
  },
  {
   "cell_type": "code",
   "execution_count": 90,
   "id": "f2e6cfa6",
   "metadata": {},
   "outputs": [
    {
     "name": "stdout",
     "output_type": "stream",
     "text": [
      "[[0 0 0 0 0]\n",
      " [1 0 0 0 0]\n",
      " [0 2 0 0 0]\n",
      " [0 0 3 0 0]\n",
      " [0 0 0 4 0]]\n"
     ]
    }
   ],
   "source": [
    "matrix = np.diag([1, 2, 3, 4], k=-1)\n",
    "print(matrix)"
   ]
  },
  {
   "cell_type": "markdown",
   "id": "25362e98",
   "metadata": {},
   "source": [
    "#### 19. Create a 8x8 matrix and fill it with a checkerboard pattern (★☆☆)"
   ]
  },
  {
   "cell_type": "raw",
   "id": "938a1f0a-81e6-4464-aba1-432d03b8cf29",
   "metadata": {},
   "source": [
    "Checkerboard est échiquier  comme dans jeu d'échecs 8x8 noire et blancs 64 cases\n",
    "on dois creer l'alternance de blanc et noire "
   ]
  },
  {
   "cell_type": "code",
   "execution_count": 94,
   "id": "1fd4fff3-29bb-4f8c-b296-133b3d84d2f2",
   "metadata": {},
   "outputs": [
    {
     "name": "stdout",
     "output_type": "stream",
     "text": [
      "[[0. 1. 0. 1. 0. 1. 0. 1.]\n",
      " [1. 0. 1. 0. 1. 0. 1. 0.]\n",
      " [0. 1. 0. 1. 0. 1. 0. 1.]\n",
      " [1. 0. 1. 0. 1. 0. 1. 0.]\n",
      " [0. 1. 0. 1. 0. 1. 0. 1.]\n",
      " [1. 0. 1. 0. 1. 0. 1. 0.]\n",
      " [0. 1. 0. 1. 0. 1. 0. 1.]\n",
      " [1. 0. 1. 0. 1. 0. 1. 0.]]\n"
     ]
    }
   ],
   "source": [
    "Checkerboard = np.zeros((8,8))\n",
    "\n",
    "for i in range(Checkerboard.shape[0]):\n",
    "    for j in range(Checkerboard.shape[1]):\n",
    "        if (i + j) % 2 == 0:\n",
    "            Checkerboard[i,j] = 0\n",
    "        else:\n",
    "            Checkerboard[i,j] = 1\n",
    "\n",
    "print(Checkerboard)"
   ]
  },
  {
   "cell_type": "markdown",
   "id": "6431e977",
   "metadata": {},
   "source": [
    "#### 20. Consider a (6,7,8) shape array, what is the index (x,y,z) of the 100th element? (★☆☆)"
   ]
  },
  {
   "cell_type": "code",
   "execution_count": 99,
   "id": "de8b0245",
   "metadata": {},
   "outputs": [
    {
     "name": "stdout",
     "output_type": "stream",
     "text": [
      "Forme du tableau: 6 étages, 7 lignes, 8 colonnes\n",
      "Nombre total d'éléments: 336\n",
      "L'élément à la position (1,5,3) vaut: 99\n",
      "Le 100ème élément dans la liste: 99\n"
     ]
    }
   ],
   "source": [
    "import numpy as np\n",
    "\n",
    "# Créer le tableau\n",
    "tableau = np.arange(6*7*8).reshape(6,7,8)\n",
    "\n",
    "# Afficher quelques informations\n",
    "print(\"Forme du tableau: 6 étages, 7 lignes, 8 colonnes\")\n",
    "print(f\"Nombre total d'éléments: {6*7*8}\")\n",
    "\n",
    "# Vérifier que c'est bien le 100ème élément\n",
    "element_100 = tableau[1, 5, 3]\n",
    "print(f\"L'élément à la position (1,5,3) vaut: {element_100}\")\n",
    "\n",
    "# Si on met tous les éléments à la suite, le 100ème est bien 99\n",
    "tous_les_elements = tableau.flatten()\n",
    "print(f\"Le 100ème élément dans la liste: {tous_les_elements[99]}\")"
   ]
  },
  {
   "cell_type": "markdown",
   "id": "31abe6fe",
   "metadata": {},
   "source": [
    "#### 21. Create a checkerboard 8x8 matrix using the tile function (★☆☆)"
   ]
  },
  {
   "cell_type": "code",
   "execution_count": 3,
   "id": "6da26fd3",
   "metadata": {},
   "outputs": [
    {
     "name": "stdout",
     "output_type": "stream",
     "text": [
      "[[0 1 0 1 0 1 0 1]\n",
      " [1 0 1 0 1 0 1 0]\n",
      " [0 1 0 1 0 1 0 1]\n",
      " [1 0 1 0 1 0 1 0]\n",
      " [0 1 0 1 0 1 0 1]\n",
      " [1 0 1 0 1 0 1 0]\n",
      " [0 1 0 1 0 1 0 1]\n",
      " [1 0 1 0 1 0 1 0]]\n"
     ]
    }
   ],
   "source": [
    " checkerboard = np.array([[0, 1],[1, 0]])\n",
    "checkerboard_tail = np.tile(checkerboard, (4, 4))\n",
    "print(checkerboard_tail )"
   ]
  },
  {
   "cell_type": "markdown",
   "id": "fd88b3f4",
   "metadata": {},
   "source": [
    "#### 22. Normalize a 5x5 random matrix (★☆☆)"
   ]
  },
  {
   "cell_type": "code",
   "execution_count": 5,
   "id": "ee6ced60",
   "metadata": {},
   "outputs": [],
   "source": [
    "d5 = np.random.random((5, 5))"
   ]
  },
  {
   "cell_type": "markdown",
   "id": "464d8590",
   "metadata": {},
   "source": [
    "#### 23. Create a custom dtype that describes a color as four unsigned bytes (RGBA) (★☆☆)"
   ]
  },
  {
   "cell_type": "code",
   "execution_count": 3,
   "id": "e2f9cfc6",
   "metadata": {},
   "outputs": [
    {
     "name": "stdout",
     "output_type": "stream",
     "text": [
      "[('rouge', 'u1'), ('vert', 'u1'), ('blue', 'u1'), ('a', 'u1')]\n"
     ]
    }
   ],
   "source": [
    "dTypecolor = np.dtype([(\"rouge\",np.ubyte),\n",
    "                  (\"vert\",np.ubyte),\n",
    "                  (\"blue\",np.ubyte),\n",
    "                  (\"a\",np.ubyte)])\n",
    "print(dTypecolor)"
   ]
  },
  {
   "cell_type": "markdown",
   "id": "06c63bb3",
   "metadata": {},
   "source": [
    "#### 24. Multiply a 5x3 matrix by a 3x2 matrix (real matrix product) (★☆☆)"
   ]
  },
  {
   "cell_type": "raw",
   "id": "324a89f5-9429-4c19-ab92-d1d7767ec338",
   "metadata": {},
   "source": [
    "d53 = np.random.random((5, 3))\n",
    "d32 = np.random.random((3, 2))\n",
    "# to multiply 3 arrays we use dot function or symbole de @\n",
    "ArobaseSymbole = d53 @ d32\n",
    "print(\"using @\")\n",
    "print(ArobaseSymbole)\n",
    "print(\"using  dot function\")\n",
    "DotFunction = np.dot(d53,d32)\n",
    "print(DotFunction)"
   ]
  },
  {
   "cell_type": "markdown",
   "id": "76fa6285",
   "metadata": {},
   "source": [
    "#### 25. Given a 1D array, negate all elements which are between 3 and 8, in place. (★☆☆)"
   ]
  },
  {
   "cell_type": "code",
   "execution_count": 29,
   "id": "0e25eca7",
   "metadata": {},
   "outputs": [
    {
     "name": "stdout",
     "output_type": "stream",
     "text": [
      "[False False False  True  True  True  True False False False]\n"
     ]
    }
   ],
   "source": [
    "arr = np.array([1, 2, 3, 4, 5, 6, 7, 8, 9, 10])\n",
    "condition = mask = (arr > 3) & (arr < 8)\n",
    "print(condition)"
   ]
  },
  {
   "cell_type": "markdown",
   "id": "930ed8bb",
   "metadata": {},
   "source": [
    "#### 26. What is the output of the following script? (★☆☆)\n",
    "```python\n",
    "# Author: Jake VanderPlas\n",
    "\n",
    "print(sum(range(5),-1))\n",
    "from numpy import *\n",
    "print(sum(range(5),-1))\n",
    "```"
   ]
  },
  {
   "cell_type": "raw",
   "id": "aef453a6-273a-47eb-af7a-4e3589cc7c11",
   "metadata": {},
   "source": [
    "this is a built in function of python : basiclly it add all array element and also the satrt number -1 print(sum(range(5),-1))\n",
    "sum this numbers [0,1,2,3,4],  encluding it start=-1  => result = 9\n",
    "\n",
    "from numpy import * \n",
    "but the numpy's sum function the -1 is the axis not a number included into their sum method \n",
    "print(sum(range(5),-1))\n",
    "sum this numbers [0,1,2,3,4], not encluding it axis=-1  => result = 10"
   ]
  },
  {
   "cell_type": "code",
   "execution_count": null,
   "id": "0167990e-e857-4b40-986f-858f2ff799a6",
   "metadata": {},
   "outputs": [],
   "source": [
    "print(sum(range(5),-1))\n",
    "from numpy import *\n",
    "print(sum(range(5),-1))"
   ]
  },
  {
   "cell_type": "markdown",
   "id": "177120e7",
   "metadata": {},
   "source": [
    "#### 27. Consider an integer vector Z, which of these expressions are legal? (★☆☆)\n",
    "```python\n",
    "Z**Z\n",
    "2 << Z >> 2\n",
    "Z <- Z\n",
    "1j*Z\n",
    "Z/1/1\n",
    "Z<Z>Z\n",
    "```"
   ]
  },
  {
   "cell_type": "code",
   "execution_count": 22,
   "id": "86d6cbef",
   "metadata": {},
   "outputs": [
    {
     "name": "stdout",
     "output_type": "stream",
     "text": [
      "[0 1 2 3 4 5 6 7 8 9]\n",
      "[        1         1         4        27       256      3125     46656\n",
      "    823543  16777216 387420489]\n",
      "[  0   1   2   4   8  16  32  64 128 256]\n",
      "[False False False False False False False False False False]\n",
      "[0.+0.j 0.+1.j 0.+2.j 0.+3.j 0.+4.j 0.+5.j 0.+6.j 0.+7.j 0.+8.j 0.+9.j]\n",
      "[0. 1. 2. 3. 4. 5. 6. 7. 8. 9.]\n"
     ]
    }
   ],
   "source": [
    "Z=np.arange(10)\n",
    "print(Z)\n",
    "print(Z**Z)\n",
    "print(2 << Z >> 2)\n",
    "print(Z <- Z)\n",
    "print(1j*Z)\n",
    "print(Z/1/1)"
   ]
  },
  {
   "cell_type": "raw",
   "id": "d9fae83d-0e5e-472c-af55-a76797fbffc1",
   "metadata": {},
   "source": [
    "the elegal expression is : print(Z<Z>)"
   ]
  },
  {
   "cell_type": "markdown",
   "id": "a6eaf0e8",
   "metadata": {},
   "source": [
    "#### 28. What are the result of the following expressions? (★☆☆)\n",
    "```python\n",
    "np.array(0) / np.array(0)\n",
    "np.array(0) // np.array(0)\n",
    "np.array([np.nan]).astype(int).astype(float)\n",
    "```"
   ]
  },
  {
   "cell_type": "code",
   "execution_count": 27,
   "id": "93684068",
   "metadata": {},
   "outputs": [
    {
     "name": "stdout",
     "output_type": "stream",
     "text": [
      "[-9.22337204e+18]\n",
      "nan\n",
      "0\n"
     ]
    },
    {
     "name": "stderr",
     "output_type": "stream",
     "text": [
      "C:\\Users\\admin\\AppData\\Local\\Temp\\ipykernel_1796\\236189615.py:1: RuntimeWarning: invalid value encountered in cast\n",
      "  print(np.array([np.nan]).astype(int).astype(float))\n",
      "C:\\Users\\admin\\AppData\\Local\\Temp\\ipykernel_1796\\236189615.py:2: RuntimeWarning: invalid value encountered in divide\n",
      "  print(np.array(0) / np.array(0))\n",
      "C:\\Users\\admin\\AppData\\Local\\Temp\\ipykernel_1796\\236189615.py:3: RuntimeWarning: divide by zero encountered in floor_divide\n",
      "  print(np.array(0) // np.array(0))\n"
     ]
    }
   ],
   "source": [
    "print(np.array([np.nan]).astype(int).astype(float))\n",
    "print(np.array(0) / np.array(0))\n",
    "print(np.array(0) // np.array(0))"
   ]
  },
  {
   "cell_type": "markdown",
   "id": "524b65f8",
   "metadata": {},
   "source": [
    "#### 29. How to round away from zero a float array ? (★☆☆)"
   ]
  },
  {
   "cell_type": "raw",
   "id": "662a2489-0b95-4ac4-b4e2-e3f5292632cd",
   "metadata": {},
   "source": [
    "Rounding (np.round) "
   ]
  },
  {
   "cell_type": "code",
   "execution_count": 2,
   "id": "61fbb78e",
   "metadata": {},
   "outputs": [
    {
     "name": "stdout",
     "output_type": "stream",
     "text": [
      "Original array: [ 1.2  1.5  4.8 -1.2 -1.5 -1.8]\n",
      "Standard round: [ 1.  2.  5. -1. -2. -2.]\n"
     ]
    }
   ],
   "source": [
    "import numpy as np\n",
    "# Create a sample array with positive and negative numbers\n",
    "arr = np.array([1.2, 1.5, 4.8, -1.2, -1.5, -1.8])\n",
    "print(\"Original array:\", arr)\n",
    "# Standard rounding\n",
    "standard_round = np.round(arr)\n",
    "print(\"Standard round:\", standard_round)"
   ]
  },
  {
   "cell_type": "raw",
   "id": "e36529f4-9cbf-48f7-9e63-28ca270c5d3a",
   "metadata": {},
   "source": [
    " Rounding \"Away from Zero\" means for postive number we riund to next hight number , and the negative number we round to the descendre"
   ]
  },
  {
   "cell_type": "code",
   "execution_count": 5,
   "id": "293ba145-dc54-4699-9ad0-09aa1afa70e4",
   "metadata": {},
   "outputs": [
    {
     "name": "stdout",
     "output_type": "stream",
     "text": [
      "[np.float64(1.0), np.float64(2.0), np.float64(2.0), np.float64(-1.0), np.float64(-2.0), np.float64(-2.0)]\n"
     ]
    }
   ],
   "source": [
    "array = np.array([1.2, 1.5, 1.8, -1.2, -1.5, -1.8])\n",
    "rounded_array = [np.round(arr) for arr in array ]\n",
    "print(rounded_array)"
   ]
  },
  {
   "cell_type": "markdown",
   "id": "8dc40752",
   "metadata": {},
   "source": [
    "#### 30. How to find common values between two arrays? (★☆☆)"
   ]
  },
  {
   "cell_type": "code",
   "execution_count": 7,
   "id": "54399cbe",
   "metadata": {},
   "outputs": [
    {
     "name": "stdout",
     "output_type": "stream",
     "text": [
      "Boolean result: [ True  True False  True False False]\n",
      "Common values using isin: [1 2 5]\n",
      "Direct intersection: [1 2 5]\n"
     ]
    }
   ],
   "source": [
    "arr1 = np.array([1, 2, 4, 5, 9, 11])\n",
    "arr2 = np.array([1, 3, 2, 5, 7, 6])\n",
    "\n",
    "booleanCommon = np.isin(arr1, arr2)\n",
    "print(\"Boolean result:\", booleanCommon)\n",
    "commValues = arr1[booleanCommon]\n",
    "print(\"Common values using isin:\", common_values)\n",
    "\n",
    "intersect = np.intersect1d(arr1, arr2)\n",
    "print(\"Direct intersection:\", intersect)"
   ]
  },
  {
   "cell_type": "markdown",
   "id": "b7f38e21",
   "metadata": {},
   "source": [
    "#### 31. How to ignore all numpy warnings (not recommended)? (★☆☆)"
   ]
  },
  {
   "cell_type": "code",
   "execution_count": 9,
   "id": "2ca3289c",
   "metadata": {},
   "outputs": [
    {
     "name": "stdout",
     "output_type": "stream",
     "text": [
      "[inf inf inf]\n"
     ]
    }
   ],
   "source": [
    "import warnings\n",
    "warnings.filterwarnings('ignore')\n",
    "arr = np.array([1, 2, 3]) / 0 \n",
    "print(arr)"
   ]
  },
  {
   "cell_type": "markdown",
   "id": "2d850aab",
   "metadata": {},
   "source": [
    "#### 32. Is the following expressions true? (★☆☆)\n",
    "```python\n",
    "np.sqrt(-1) == np.emath.sqrt(-1)\n",
    "```"
   ]
  },
  {
   "cell_type": "code",
   "execution_count": 44,
   "id": "5c83ffce",
   "metadata": {},
   "outputs": [
    {
     "name": "stdout",
     "output_type": "stream",
     "text": [
      "False\n"
     ]
    }
   ],
   "source": [
    "print(np.sqrt(-1) == np.emath.sqrt(-1))"
   ]
  },
  {
   "cell_type": "markdown",
   "id": "5c4a556f",
   "metadata": {},
   "source": [
    "#### 33. How to get the dates of yesterday, today and tomorrow? (★☆☆)"
   ]
  },
  {
   "cell_type": "code",
   "execution_count": 50,
   "id": "c3b683a0",
   "metadata": {},
   "outputs": [
    {
     "name": "stdout",
     "output_type": "stream",
     "text": [
      "date of yesterday : 2025-10-21\n",
      "date of today : 2025-10-22\n",
      "date of tomorrow :  2025-10-23\n"
     ]
    }
   ],
   "source": [
    "from datetime import date, timedelta\n",
    "today = date.today() \n",
    "yesterday = today - timedelta(days=1)\n",
    "tomorrow = today + timedelta(days=1)\n",
    "print(\"date of yesterday :\", yesterday )\n",
    "print(\"date of today :\", today )\n",
    "print(\"date of tomorrow : \", tomorrow)\n"
   ]
  },
  {
   "cell_type": "markdown",
   "id": "453cdd64",
   "metadata": {},
   "source": [
    "#### 34. How to get all the dates corresponding to the month of July 2016? (★★☆)"
   ]
  },
  {
   "cell_type": "code",
   "execution_count": 10,
   "id": "4ba4d37c",
   "metadata": {},
   "outputs": [
    {
     "name": "stdout",
     "output_type": "stream",
     "text": [
      "['2016-07-01' '2016-07-02' '2016-07-03' '2016-07-04' '2016-07-05'\n",
      " '2016-07-06' '2016-07-07' '2016-07-08' '2016-07-09' '2016-07-10'\n",
      " '2016-07-11' '2016-07-12' '2016-07-13' '2016-07-14' '2016-07-15'\n",
      " '2016-07-16' '2016-07-17' '2016-07-18' '2016-07-19' '2016-07-20'\n",
      " '2016-07-21' '2016-07-22' '2016-07-23' '2016-07-24' '2016-07-25'\n",
      " '2016-07-26' '2016-07-27' '2016-07-28' '2016-07-29' '2016-07-30'\n",
      " '2016-07-31']\n"
     ]
    }
   ],
   "source": [
    "july2016=np.arange('2016-07','2016-08',dtype='datetime64[D]')\n",
    "print(july2016)"
   ]
  },
  {
   "cell_type": "markdown",
   "id": "52667b6e",
   "metadata": {},
   "source": [
    "#### 35. How to compute ((A+B)*(-A/2)) in place (without copy)? (★★☆)"
   ]
  },
  {
   "cell_type": "code",
   "execution_count": 14,
   "id": "e6e7c030",
   "metadata": {},
   "outputs": [
    {
     "name": "stdout",
     "output_type": "stream",
     "text": [
      "[ -2.5  -7.  -13.5]\n"
     ]
    }
   ],
   "source": [
    "A = np.array([1, 2, 3])\n",
    "B = np.array([4, 5, 6])\n",
    "Operations = np.multiply(np.add(A, B), np.divide(-A, 2))\n",
    "print(Operations)"
   ]
  },
  {
   "cell_type": "markdown",
   "id": "9a8f3738",
   "metadata": {},
   "source": [
    "#### 36. Extract the integer part of a random array of positive numbers using 4 different methods (★★☆)"
   ]
  },
  {
   "cell_type": "code",
   "execution_count": 52,
   "id": "368a801a",
   "metadata": {},
   "outputs": [
    {
     "name": "stdout",
     "output_type": "stream",
     "text": [
      "[6. 7. 3. 2. 4. 8. 0. 8. 5. 9.]\n",
      "[6. 7. 3. 2. 4. 8. 0. 8. 5. 9.]\n",
      "[6. 7. 3. 2. 4. 8. 0. 8. 5. 9.]\n",
      "[6 7 3 2 4 8 0 8 5 9]\n",
      "[6. 7. 3. 2. 4. 8. 0. 8. 5. 9.]\n"
     ]
    }
   ],
   "source": [
    "import numpy as np\n",
    "Z = np.random.uniform(0,10,10)\n",
    "print(Z-Z%1)\n",
    "print(Z//1)\n",
    "print(np.floor(Z))\n",
    "print(Z.astype(int))\n",
    "print(np.trunc(Z))"
   ]
  },
  {
   "cell_type": "markdown",
   "id": "cab1eed1",
   "metadata": {},
   "source": [
    "#### 37. Create a 5x5 matrix with row values ranging from 0 to 4 (★★☆)"
   ]
  },
  {
   "cell_type": "raw",
   "id": "a0a01bfa-bed7-4f94-a881-45734bac371c",
   "metadata": {},
   "source": [
    "[0 1 2 3 4]   +   [[0]     =   [[0 1 2 3 4]\n",
    "                   [0]          [0 1 2 3 4]\n",
    "                   [0]          [0 1 2 3 4]\n",
    "                   [0]          [0 1 2 3 4]\n",
    "                   [0]]         [0 1 2 3 4]]"
   ]
  },
  {
   "cell_type": "code",
   "execution_count": 15,
   "id": "f1b579ba",
   "metadata": {},
   "outputs": [
    {
     "name": "stdout",
     "output_type": "stream",
     "text": [
      "[[0 1 2 3 4]\n",
      " [0 1 2 3 4]\n",
      " [0 1 2 3 4]\n",
      " [0 1 2 3 4]\n",
      " [0 1 2 3 4]]\n"
     ]
    }
   ],
   "source": [
    "FiveD = np.arange(5) + np.zeros((5, 1), dtype=int)\n",
    "print(FiveD)"
   ]
  },
  {
   "cell_type": "markdown",
   "id": "cd0ce6b1",
   "metadata": {},
   "source": [
    "#### 38. Consider a generator function that generates 10 integers and use it to build an array (★☆☆)"
   ]
  },
  {
   "cell_type": "code",
   "execution_count": 27,
   "id": "aab193a6",
   "metadata": {},
   "outputs": [
    {
     "name": "stdout",
     "output_type": "stream",
     "text": [
      "[0 1 2 3 4 5 6 7 8 9]\n"
     ]
    }
   ],
   "source": [
    "# rand10integers  = np.array (list(np.random.randint(10)))\n",
    "# print(rand10integers)\n",
    "# print(type(rand10integers))\n",
    "def integersGen():\n",
    "    for i in range(10):\n",
    "        yield i\n",
    "numbers = integersGen()\n",
    "convertList = np.array(list(integersGen()))\n",
    "print(convertList)"
   ]
  },
  {
   "cell_type": "markdown",
   "id": "c4c942d1",
   "metadata": {},
   "source": [
    "#### 39. Create a vector of size 10 with values ranging from 0 to 1, both excluded (★★☆)"
   ]
  },
  {
   "cell_type": "code",
   "execution_count": 38,
   "id": "e42eaa4b",
   "metadata": {},
   "outputs": [
    {
     "name": "stdout",
     "output_type": "stream",
     "text": [
      "[18 19 20 21 22 23 24 25 26 27 28 29]\n"
     ]
    }
   ],
   "source": [
    "arr = np.linspace(17,30 ,14,dtype=int) \n",
    "arr = arr[1:-1]\n",
    "print(arr)"
   ]
  },
  {
   "cell_type": "markdown",
   "id": "9b3cb8d2",
   "metadata": {},
   "source": [
    "#### 40. Create a random vector of size 10 and sort it (★★☆)"
   ]
  },
  {
   "cell_type": "code",
   "execution_count": 42,
   "id": "37d2b341",
   "metadata": {},
   "outputs": [
    {
     "name": "stdout",
     "output_type": "stream",
     "text": [
      "[0.23989709 0.27013241 0.4448235  0.73459699 0.76934087 0.82270117\n",
      " 0.8311798  0.84139205 0.86361117 0.92680999]\n"
     ]
    }
   ],
   "source": [
    "vector = np.random.randint(10)\n",
    "sortVector = np.sort( np.random.random(10))\n",
    "print(sortVector)"
   ]
  },
  {
   "cell_type": "markdown",
   "id": "2facfddc",
   "metadata": {},
   "source": [
    "#### 41. How to sum a small array faster than np.sum? (★★☆)"
   ]
  },
  {
   "cell_type": "code",
   "execution_count": 44,
   "id": "4bb8864f",
   "metadata": {},
   "outputs": [
    {
     "name": "stdout",
     "output_type": "stream",
     "text": [
      "15\n",
      "15\n"
     ]
    }
   ],
   "source": [
    "array = np.array([1, 2, 3, 4, 5])\n",
    "compteur = 0\n",
    "for arr in array:\n",
    "    compteur += arr\n",
    "print(compteur)\n",
    "# built in function\n",
    "Reduce = np.add.reduce(array)\n",
    "print(Reduce)"
   ]
  },
  {
   "cell_type": "markdown",
   "id": "539cd2a5",
   "metadata": {},
   "source": [
    "#### 42. Consider two random array A and B, check if they are equal (★★☆)"
   ]
  },
  {
   "cell_type": "code",
   "execution_count": 45,
   "id": "5246d7bf",
   "metadata": {},
   "outputs": [
    {
     "name": "stdout",
     "output_type": "stream",
     "text": [
      "[ True  True  True  True  True]\n"
     ]
    }
   ],
   "source": [
    "A = np.random.random(5)\n",
    "B = A.copy()\n",
    "isEql = A == B\n",
    "print(isEql)"
   ]
  },
  {
   "cell_type": "markdown",
   "id": "448f8274",
   "metadata": {},
   "source": [
    "#### 43. Make an array immutable (read-only) (★★☆)"
   ]
  },
  {
   "cell_type": "code",
   "execution_count": 46,
   "id": "7cf2b3dd",
   "metadata": {},
   "outputs": [
    {
     "ename": "ValueError",
     "evalue": "assignment destination is read-only",
     "output_type": "error",
     "traceback": [
      "\u001b[1;31m---------------------------------------------------------------------------\u001b[0m",
      "\u001b[1;31mValueError\u001b[0m                                Traceback (most recent call last)",
      "Cell \u001b[1;32mIn[46], line 3\u001b[0m\n\u001b[0;32m      1\u001b[0m arr \u001b[38;5;241m=\u001b[39m np\u001b[38;5;241m.\u001b[39marray([\u001b[38;5;241m1\u001b[39m, \u001b[38;5;241m2\u001b[39m, \u001b[38;5;241m3\u001b[39m, \u001b[38;5;241m4\u001b[39m, \u001b[38;5;241m5\u001b[39m])\n\u001b[0;32m      2\u001b[0m arr\u001b[38;5;241m.\u001b[39mflags\u001b[38;5;241m.\u001b[39mwriteable \u001b[38;5;241m=\u001b[39m \u001b[38;5;28;01mFalse\u001b[39;00m\n\u001b[1;32m----> 3\u001b[0m \u001b[43marr\u001b[49m\u001b[43m[\u001b[49m\u001b[38;5;241;43m0\u001b[39;49m\u001b[43m]\u001b[49m \u001b[38;5;241m=\u001b[39m \u001b[38;5;241m99\u001b[39m\n",
      "\u001b[1;31mValueError\u001b[0m: assignment destination is read-only"
     ]
    }
   ],
   "source": [
    "arr = np.array([1, 2, 3, 4, 5])\n",
    "arr.flags.writeable = False\n",
    "arr[0] = 99"
   ]
  },
  {
   "cell_type": "markdown",
   "id": "d7b7aaf3",
   "metadata": {},
   "source": [
    "#### 44. Consider a random 10x2 matrix representing cartesian coordinates, convert them to polar coordinates (★★☆)"
   ]
  },
  {
   "cell_type": "raw",
   "id": "f4d03ccd-2734-4ba8-8080-96f13e71aa49",
   "metadata": {},
   "source": [
    "Cartesian coordinates: (x, y) pairs\n",
    "\n",
    "Polar coordinates: (r, θ) where:\n",
    "\n",
    "r = radius = √(x² + y²)\n",
    "\n",
    "θ = angle = arctan2(y, x) [in radians]"
   ]
  },
  {
   "cell_type": "code",
   "execution_count": 47,
   "id": "926d0bc9-4cf9-43e5-af03-df7c0cac780f",
   "metadata": {},
   "outputs": [
    {
     "name": "stdout",
     "output_type": "stream",
     "text": [
      "[[ 0.5033886  -3.26271239]\n",
      " [ 0.15717691  3.2232823 ]\n",
      " [ 3.71326145 -0.30827453]\n",
      " [-2.09537012 -1.17315497]\n",
      " [ 1.6190335   0.83040931]\n",
      " [ 4.93081217 -4.83380764]\n",
      " [ 4.10148908 -2.33789337]\n",
      " [-1.6218897   1.35387352]\n",
      " [ 1.14462958  4.23311954]\n",
      " [-1.2338853   0.3153079 ]]\n"
     ]
    }
   ],
   "source": [
    "cartesian = np.random.random((10, 2)) * 10 - 5 \n",
    "print(cartesian)"
   ]
  },
  {
   "cell_type": "code",
   "execution_count": 48,
   "id": "766321a8-7860-4511-8c38-3a04db929b9f",
   "metadata": {},
   "outputs": [
    {
     "name": "stdout",
     "output_type": "stream",
     "text": [
      "\n",
      "Polar coordinates (r, θ in radians):\n",
      "[[ 3.30131674 -1.41771802]\n",
      " [ 3.22711223  1.52207192]\n",
      " [ 3.72603594 -0.08282994]\n",
      " [ 2.40143052 -2.631196  ]\n",
      " [ 1.81957387  0.47391771]\n",
      " [ 6.90496958 -0.7754642 ]\n",
      " [ 4.7210124  -0.51807673]\n",
      " [ 2.11269963  2.4460185 ]\n",
      " [ 4.38514287  1.30671302]\n",
      " [ 1.27353524  2.89140606]]\n"
     ]
    }
   ],
   "source": [
    "# Step 2: Convert to Polar coordinates\n",
    "x = cartesian[:, 0]  # All x values (first column)\n",
    "y = cartesian[:, 1]  # All y values (second column)\n",
    "\n",
    "# Calculate radius r = √(x² + y²)\n",
    "r = np.sqrt(x**2 + y**2)\n",
    "\n",
    "# Calculate angle θ = arctan2(y, x) [in radians]\n",
    "theta = np.arctan2(y, x)\n",
    "\n",
    "# Step 3: Combine into polar coordinates matrix\n",
    "polar = np.column_stack((r, theta))\n",
    "print(\"\\nPolar coordinates (r, θ in radians):\")\n",
    "print(polar)"
   ]
  },
  {
   "cell_type": "markdown",
   "id": "a556027a",
   "metadata": {},
   "source": [
    "#### 45. Create random vector of size 10 and replace the maximum value by 0 (★★☆)"
   ]
  },
  {
   "cell_type": "code",
   "execution_count": 50,
   "id": "9e07cb87",
   "metadata": {},
   "outputs": [
    {
     "name": "stdout",
     "output_type": "stream",
     "text": [
      "[0.55283689 0.12247138 0.12431002 0.08767953 0.34356137 0.75958526\n",
      " 0.67629467 0.53246255 0.57251513 0.13156596]\n",
      "replace the mx by 0 \n",
      "[0.55283689 0.12247138 0.12431002 0.08767953 0.34356137 0.\n",
      " 0.67629467 0.53246255 0.57251513 0.13156596]\n"
     ]
    }
   ],
   "source": [
    "vector = np.random.random(10)\n",
    "print(vector)\n",
    "print(\"replace the mx by 0 \")\n",
    "maxI = np.argmax(vector)\n",
    "vector[maxI] = 0\n",
    "print(vector)"
   ]
  },
  {
   "cell_type": "markdown",
   "id": "004f3da1",
   "metadata": {},
   "source": [
    "#### 46. Create a structured array with `x` and `y` coordinates covering the [0,1]x[0,1] area (★★☆)"
   ]
  },
  {
   "cell_type": "code",
   "execution_count": 55,
   "id": "b3824741",
   "metadata": {},
   "outputs": [
    {
     "name": "stdout",
     "output_type": "stream",
     "text": [
      "Structured array with x,y coordinates:\n",
      "[(0.  , 0.  ) (0.25, 0.  ) (0.5 , 0.  ) (0.75, 0.  ) (1.  , 0.  )\n",
      " (0.  , 0.25) (0.25, 0.25) (0.5 , 0.25) (0.75, 0.25) (1.  , 0.25)\n",
      " (0.  , 0.5 ) (0.25, 0.5 ) (0.5 , 0.5 ) (0.75, 0.5 ) (1.  , 0.5 )\n",
      " (0.  , 0.75) (0.25, 0.75) (0.5 , 0.75) (0.75, 0.75) (1.  , 0.75)\n",
      " (0.  , 1.  ) (0.25, 1.  ) (0.5 , 1.  ) (0.75, 1.  ) (1.  , 1.  )]\n"
     ]
    }
   ],
   "source": [
    "x = np.linspace(0, 1, 5)\n",
    "y = np.linspace(0, 1, 5)\n",
    "X, Y = np.meshgrid(x, y)\n",
    "coordinates = np.zeros(X.size, dtype=[('x', float), ('y', float)])\n",
    "coordinates['x'] = X.flatten()\n",
    "coordinates['y'] = Y.flatten()\n",
    "print(\"Structured array with x,y coordinates:\")\n",
    "print(coordinates)"
   ]
  },
  {
   "cell_type": "markdown",
   "id": "1c0adc0d",
   "metadata": {},
   "source": [
    "#### 47. Given two arrays, X and Y, construct the Cauchy matrix C (Cij =1/(xi - yj)) (★★☆)"
   ]
  },
  {
   "cell_type": "code",
   "execution_count": 56,
   "id": "01b3bbb7",
   "metadata": {},
   "outputs": [
    {
     "name": "stdout",
     "output_type": "stream",
     "text": [
      "[[-0.25       -0.2        -0.16666667 -0.14285714]\n",
      " [-0.33333333 -0.25       -0.2        -0.16666667]\n",
      " [-0.5        -0.33333333 -0.25       -0.2       ]\n",
      " [-1.         -0.5        -0.33333333 -0.25      ]]\n"
     ]
    }
   ],
   "source": [
    "X = np.array([1, 2, 3, 4])\n",
    "Y = np.array([5, 6, 7, 8])\n",
    "C = 1 / (X[:, np.newaxis] - Y)\n",
    "print(C)"
   ]
  },
  {
   "cell_type": "markdown",
   "id": "c8a2f65a",
   "metadata": {},
   "source": [
    "#### 48. Print the minimum and maximum representable value for each numpy scalar type (★★☆)"
   ]
  },
  {
   "cell_type": "code",
   "execution_count": 57,
   "id": "35d844d6",
   "metadata": {},
   "outputs": [
    {
     "name": "stdout",
     "output_type": "stream",
     "text": [
      "Min and max representable values:\n",
      "int8     min:            -128 max: 127\n",
      "int16    min:          -32768 max: 32767\n",
      "int32    min:     -2147483648 max: 2147483647\n",
      "int64    min: -9223372036854775808 max: 9223372036854775807\n",
      "uint8    min:               0 max: 255\n",
      "uint16   min:               0 max: 65535\n",
      "uint32   min:               0 max: 4294967295\n",
      "uint64   min:               0 max: 18446744073709551615\n",
      "float16  min:        -65504.0 max: 65504.0\n",
      "float32  min: -3.4028234663852886e+38 max: 3.4028234663852886e+38\n",
      "float64  min: -1.7976931348623157e+308 max: 1.7976931348623157e+308\n"
     ]
    }
   ],
   "source": [
    "numpyTypes = [np.int8, np.int16, np.int32, np.int64, \n",
    "         np.uint8, np.uint16, np.uint32, np.uint64,\n",
    "         np.float16, np.float32, np.float64]\n",
    "print(\"Min and max representable values:\")\n",
    "for dtype in numpyTypes:\n",
    "    info = np.iinfo(dtype) if 'int' in str(dtype) else np.finfo(dtype)\n",
    "    print(f\"{dtype.__name__:8} min: {info.min:15} max: {info.max}\")"
   ]
  },
  {
   "cell_type": "markdown",
   "id": "11727a69",
   "metadata": {},
   "source": [
    "#### 49. How to print all the values of an array? (★★☆)"
   ]
  },
  {
   "cell_type": "code",
   "execution_count": 59,
   "id": "47e98473",
   "metadata": {},
   "outputs": [
    {
     "name": "stdout",
     "output_type": "stream",
     "text": [
      "[[1 2 3]\n",
      " [4 5 6]\n",
      " [7 8 9]]\n",
      "[1 2 3]\n",
      "[4 5 6]\n",
      "[7 8 9]\n"
     ]
    }
   ],
   "source": [
    "array  = np.array([[1, 2, 3], [4, 5, 6], [7, 8, 9]])\n",
    "print(arr)\n",
    "for arr in array: \n",
    "    print(arr)"
   ]
  },
  {
   "cell_type": "markdown",
   "id": "e0e7d741",
   "metadata": {},
   "source": [
    "#### 50. How to find the closest value (to a given scalar) in a vector? (★★☆)"
   ]
  },
  {
   "cell_type": "code",
   "execution_count": 61,
   "id": "62cabf6f",
   "metadata": {},
   "outputs": [
    {
     "name": "stdout",
     "output_type": "stream",
     "text": [
      "Differences: [1.8 0.7 0.9 5.5 1.9]\n",
      "Closest position (index): 1\n",
      "Closest value: 3.7\n"
     ]
    }
   ],
   "source": [
    "vector = np.array([1.2, 3.7, 2.1, 8.5, 4.9])\n",
    "target = 3.0 \n",
    "differences = np.abs(vector - target)\n",
    "print(\"Differences:\", differences)\n",
    "\n",
    "closest_position = np.argmin(differences)\n",
    "print(\"Closest position (index):\", closest_position)\n",
    "\n",
    "closest_value = vector[closest_position]\n",
    "print(\"Closest value:\", closest_value)"
   ]
  },
  {
   "cell_type": "markdown",
   "id": "c5611b9e",
   "metadata": {},
   "source": [
    "#### 51. Create a structured array representing a position (x,y) and a color (r,g,b) (★★☆)"
   ]
  },
  {
   "cell_type": "code",
   "execution_count": 62,
   "id": "f622939d",
   "metadata": {},
   "outputs": [
    {
     "name": "stdout",
     "output_type": "stream",
     "text": [
      "{'x': [1.0, 3.2, 5.7, 2.3, 7.1], 'y': [2.5, 4.1, 1.8, 6.9, 3.4], 'r': [255, 0, 0, 255, 128], 'g': [0, 255, 0, 255, 128], 'b': [0, 0, 255, 0, 128]}\n"
     ]
    }
   ],
   "source": [
    " structured_array  = {\n",
    "    'x': [1.0, 3.2, 5.7, 2.3, 7.1],\n",
    "    'y': [2.5, 4.1, 1.8, 6.9, 3.4],\n",
    "    'r': [255, 0, 0, 255, 128],\n",
    "    'g': [0, 255, 0, 255, 128],\n",
    "    'b': [0, 0, 255, 0, 128]\n",
    "}\n",
    "print(structured_array)"
   ]
  },
  {
   "cell_type": "markdown",
   "id": "d22b8574",
   "metadata": {},
   "source": [
    "#### 52. Consider a random vector with shape (100,2) representing coordinates, find point by point distances (★★☆)"
   ]
  },
  {
   "cell_type": "code",
   "execution_count": null,
   "id": "d5c9cdf8",
   "metadata": {},
   "outputs": [],
   "source": [
    "random_vector = np.random.random((100, 2))\n",
    "print(\"\\nDistances between  point by point:\")\n",
    "for i in range(len(random_vector)):\n",
    "    for j in range(len(random_vector)):\n",
    "        point_i = random_vector[i]\n",
    "        point_j = random_vector[j]\n",
    "\n",
    "        distance = np.sqrt((point_i[0] - point_j[0])**2 + (point_i[1] - point_j[1])**2)\n",
    "        \n",
    "        print(f\"Point {i} to Point {j}: {distance:.3f}\")"
   ]
  },
  {
   "cell_type": "markdown",
   "id": "f5c164f2",
   "metadata": {},
   "source": [
    "#### 53. How to convert a float (32 bits) array into an integer (32 bits) in place?"
   ]
  },
  {
   "cell_type": "code",
   "execution_count": 68,
   "id": "ea262de8",
   "metadata": {},
   "outputs": [
    {
     "name": "stdout",
     "output_type": "stream",
     "text": [
      "[1.7 2.3 3.8 4.1]\n",
      "[1 2 3 4]\n"
     ]
    }
   ],
   "source": [
    "float_array = np.array([1.7, 2.3, 3.8, 4.1], dtype=np.float32)\n",
    "print(float_array)\n",
    "int_array = float_array.astype(np.int32)\n",
    "print(int_array)"
   ]
  },
  {
   "cell_type": "markdown",
   "id": "a8b7e6f5",
   "metadata": {},
   "source": [
    "#### 54. How to read the following file? (★★☆)\n",
    "```\n",
    "1, 2, 3, 4, 5\n",
    "6,  ,  , 7, 8\n",
    " ,  , 9,10,11\n",
    "```"
   ]
  },
  {
   "cell_type": "raw",
   "id": "b0790c82-cbd8-4f67-927b-f481c664000a",
   "metadata": {},
   "source": [
    "Using np.genfromtxt() that  handle missing values "
   ]
  },
  {
   "cell_type": "code",
   "execution_count": 71,
   "id": "bde0538a",
   "metadata": {},
   "outputs": [
    {
     "name": "stdout",
     "output_type": "stream",
     "text": [
      "[[ 1.  2.  3.  4.  5.]\n",
      " [ 6. nan nan  7.  8.]\n",
      " [nan nan  9. 10. 11.]]\n"
     ]
    }
   ],
   "source": [
    "data = \"\"\"1, 2, 3, 4, 5\n",
    "6,  ,  , 7, 8\n",
    " ,  , 9,10,11\"\"\"\n",
    "\n",
    "with open('data.txt', 'w') as f:\n",
    "    f.write(data)\n",
    "\n",
    "array = np.genfromtxt('data.txt', delimiter=',', filling_values=np.nan)\n",
    "\n",
    "print(array)"
   ]
  },
  {
   "cell_type": "markdown",
   "id": "c6b32834",
   "metadata": {},
   "source": [
    "#### 55. What is the equivalent of enumerate for numpy arrays? (★★☆)"
   ]
  },
  {
   "cell_type": "raw",
   "id": "a31f7810-0725-489e-8f66-92367f2b5e41",
   "metadata": {},
   "source": [
    "there is np.ndenumerate() which is the equivalent of Python's enumerate()"
   ]
  },
  {
   "cell_type": "code",
   "execution_count": 72,
   "id": "a402f8c1-613f-47f6-be92-3df9c78c39f9",
   "metadata": {},
   "outputs": [
    {
     "name": "stdout",
     "output_type": "stream",
     "text": [
      "[[1 2 3]\n",
      " [4 5 6]]\n",
      "Index (0, 0): Value 1\n",
      "Index (0, 1): Value 2\n",
      "Index (0, 2): Value 3\n",
      "Index (1, 0): Value 4\n",
      "Index (1, 1): Value 5\n",
      "Index (1, 2): Value 6\n"
     ]
    }
   ],
   "source": [
    "arr = np.array([[1, 2, 3],\n",
    "                [4, 5, 6]])\n",
    "print(arr)\n",
    "for x, y in np.ndenumerate(arr):\n",
    "    print(f\"Index {x}: Value {y}\")"
   ]
  },
  {
   "cell_type": "markdown",
   "id": "a2121a05",
   "metadata": {},
   "source": [
    "#### 56. Generate a generic 2D Gaussian-like array (★★☆)"
   ]
  },
  {
   "cell_type": "raw",
   "id": "67882e50-7a3e-4759-be32-ae744ef6e6f7",
   "metadata": {},
   "source": [
    "Think of a 2D Gaussian like a bell-shaped hill - highest in the center and gradually sloping down toward the edges."
   ]
  },
  {
   "cell_type": "code",
   "execution_count": 81,
   "id": "d2ba7c8f-49e6-40ad-a6ab-c66abbb33551",
   "metadata": {},
   "outputs": [],
   "source": [
    "# Step 1: Create a grid of coordinates\n",
    "size = 2  \n",
    "# Create all combinations of x and y coordinates\n",
    "x = np.arange(size) \n",
    "y = np.arange(size)  \n",
    "X, Y = np.meshgrid(x, y)"
   ]
  },
  {
   "cell_type": "markdown",
   "id": "eb7136e9-662b-4336-85ae-f5b217dc2864",
   "metadata": {},
   "source": [
    "### Find Distance from Center"
   ]
  },
  {
   "cell_type": "code",
   "execution_count": 82,
   "id": "1675c03a-1b7d-4dc1-83b5-51f79f27357c",
   "metadata": {},
   "outputs": [
    {
     "name": "stdout",
     "output_type": "stream",
     "text": [
      "1\n",
      "\n",
      "Squared distances from center:\n",
      "[[2 1]\n",
      " [1 0]]\n"
     ]
    }
   ],
   "source": [
    "# Step 2: Calculate distance of each point from center\n",
    "center = size // 2\n",
    "print(center)\n",
    "# Distance from center for each point\n",
    "distance_squared = (X - center)**2 + (Y - center)**2\n",
    "print(\"\\nSquared distances from center:\")\n",
    "print(distance_squared)"
   ]
  },
  {
   "cell_type": "markdown",
   "id": "f50a57dd-c680-46d1-a8c5-31a83fdc0b94",
   "metadata": {},
   "source": [
    "### Apply Gaussian Formula"
   ]
  },
  {
   "cell_type": "code",
   "execution_count": 83,
   "id": "6f592ba5-ffc7-4b3a-a7f6-1e0db68d14e4",
   "metadata": {},
   "outputs": [
    {
     "name": "stdout",
     "output_type": "stream",
     "text": [
      "2D Gaussian array:\n",
      "[[0.368 0.607]\n",
      " [0.607 1.   ]]\n"
     ]
    }
   ],
   "source": [
    "# Step 3: Apply the Gaussian (bell curve) formula\n",
    "sigma = 1.0  # Controls how \"spread out\" the bell curve is\n",
    "\n",
    "# Gaussian formula: e^(-distance² / (2 * sigma²))\n",
    "gaussian = np.exp(-distance_squared / (2 * sigma**2))\n",
    "print(\"2D Gaussian array:\")\n",
    "print(np.round(gaussian, 3))  # Round to 3 decimal places"
   ]
  },
  {
   "cell_type": "markdown",
   "id": "97055efa",
   "metadata": {},
   "source": [
    "#### 57. How to randomly place p elements in a 2D array? (★★☆)"
   ]
  },
  {
   "cell_type": "code",
   "execution_count": 87,
   "id": "292e842f",
   "metadata": {},
   "outputs": [
    {
     "name": "stdout",
     "output_type": "stream",
     "text": [
      "[[0 0 0 0 0]\n",
      " [0 0 0 0 0]\n",
      " [0 0 0 0 0]\n",
      " [0 0 0 0 0]\n",
      " [0 0 0 0 0]]\n",
      "[[9 0 9 9 0]\n",
      " [0 0 9 0 0]\n",
      " [0 9 0 0 0]\n",
      " [0 0 0 0 0]\n",
      " [0 0 0 0 0]]\n"
     ]
    }
   ],
   "source": [
    "arr = np.zeros((5, 5), dtype=int)\n",
    "print(arr)\n",
    "# p how much of number i want to place in it a 9 number\n",
    "p=5\n",
    "indices = np.random.choice(arr.size, p, replace=False)\n",
    "arr.flat[indices] = 9\n",
    "print(arr)"
   ]
  },
  {
   "cell_type": "markdown",
   "id": "bfd2513c",
   "metadata": {},
   "source": [
    "#### 58. Subtract the mean of each row of a matrix (★★☆)"
   ]
  },
  {
   "cell_type": "code",
   "execution_count": 90,
   "id": "f306ab72",
   "metadata": {},
   "outputs": [
    {
     "name": "stdout",
     "output_type": "stream",
     "text": [
      "[[1 2 3]\n",
      " [4 5 6]\n",
      " [7 8 9]]\n",
      "Mean of each row: [2. 5. 8.]\n",
      "Row 0: [1 2 3] - 2.0 = [-1  0  1]\n",
      "Row 1: [4 5 6] - 5.0 = [-1  0  1]\n",
      "Row 2: [7 8 9] - 8.0 = [-1  0  1]\n",
      "[[-1  0  1]\n",
      " [-1  0  1]\n",
      " [-1  0  1]]\n"
     ]
    }
   ],
   "source": [
    "matrix = np.array([ [1, 2, 3],[4, 5, 6], [7, 8, 9]])\n",
    "print(matrix)\n",
    "rowMean = np.mean(matrix, axis=1)\n",
    "print(\"Mean of each row:\", rowMean)\n",
    "# Subtract each row's mean from that row\n",
    "resultat = matrix.copy()\n",
    "for i in range(len(matrix)):\n",
    "    resultat[i] = matrix[i] - rowMean[i]\n",
    "    print(f\"Row {i}: {matrix[i]} - {rowMean[i]} = {resultat[i]}\")\n",
    "print(resultat)"
   ]
  },
  {
   "cell_type": "markdown",
   "id": "da9f2f9b",
   "metadata": {},
   "source": [
    "#### 59. How to sort an array by the nth column? (★★☆)"
   ]
  },
  {
   "cell_type": "code",
   "execution_count": 94,
   "id": "68cde57f",
   "metadata": {},
   "outputs": [
    {
     "name": "stdout",
     "output_type": "stream",
     "text": [
      "[[101  85  92]\n",
      " [102  92  88]\n",
      " [103  78  95]\n",
      " [104  95  82]]\n",
      "[[103  78  95]\n",
      " [101  85  92]\n",
      " [102  92  88]\n",
      " [104  95  82]]\n",
      "[[104  95  82]\n",
      " [102  92  88]\n",
      " [101  85  92]\n",
      " [103  78  95]]\n"
     ]
    }
   ],
   "source": [
    "students = np.array([\n",
    "    [101, 85, 92],\n",
    "    [102, 92, 88],\n",
    "    [103, 78, 95],\n",
    "    [104, 95, 82]\n",
    "])\n",
    "print(students)\n",
    "\n",
    "# Sort by Math scores (column 1)\n",
    "math_sorted = students[students[:, 1].argsort()]\n",
    "print(math_sorted)\n",
    "\n",
    "# Sort by Science scores (column 2)\n",
    "science_sorted = students[students[:, 2].argsort()]\n",
    "print(science_sorted)"
   ]
  },
  {
   "cell_type": "markdown",
   "id": "5b7be45c",
   "metadata": {},
   "source": [
    "#### 60. How to tell if a given 2D array has null columns? (★★☆)"
   ]
  },
  {
   "cell_type": "code",
   "execution_count": 104,
   "id": "7dbe2c27",
   "metadata": {},
   "outputs": [
    {
     "name": "stdout",
     "output_type": "stream",
     "text": [
      "[[1 0 4]\n",
      " [2 0 5]\n",
      " [3 0 6]]\n",
      "Column 0: NOT null\n",
      "Column 1: NULL\n",
      "Column 2: NOT null\n",
      "\n",
      "Null columns: [1]\n"
     ]
    }
   ],
   "source": [
    "array = np.array([\n",
    "    [1, 0, 4],   \n",
    "    [2, 0, 5],\n",
    "    [3, 0, 6]\n",
    "])\n",
    "print(array)\n",
    "num_columns = array.shape[1]\n",
    "null = []\n",
    "for col in range(num_columns):\n",
    "    column_data = array[:, col]  \n",
    "    if np.all(column_data == 0):\n",
    "        null.append(col)\n",
    "        print(f\"Column {col}: NULL\")\n",
    "    else:\n",
    "        print(f\"Column {col}: NOT null\")\n",
    "\n",
    "print(f\"\\nNull columns: {null}\")\n"
   ]
  },
  {
   "cell_type": "markdown",
   "id": "7c18c02e",
   "metadata": {},
   "source": [
    "#### 61. Find the nearest value from a given value in an array (★★☆)"
   ]
  },
  {
   "cell_type": "code",
   "execution_count": 106,
   "id": "b78ae9c4",
   "metadata": {},
   "outputs": [
    {
     "name": "stdout",
     "output_type": "stream",
     "text": [
      "  Value 1: |1 - 3.0| = 9\n",
      "  Value 5: |5 - 3.0| = 5\n",
      "  Value 8: |8 - 3.0| = 2\n",
      "  Value 12: |12 - 3.0| = 2\n",
      "  Value 15: |15 - 3.0| = 5\n",
      "  Value 20: |20 - 3.0| = 10\n",
      "\n",
      "Smallest difference: 2\n",
      "Position: 2\n",
      "Nearest value: 8\n"
     ]
    }
   ],
   "source": [
    "array = np.array([1, 5, 8, 12, 15, 20])\n",
    "given_value  = 10\n",
    "differences = np.abs(array - given_value)\n",
    "for i, (value, diff) in enumerate(zip(array, differences)):\n",
    "    print(f\"  Value {value}: |{value} - {target}| = {diff}\")\n",
    "\n",
    "nearest_position = np.argmin(differences)\n",
    "nearest_value = array[nearest_position]\n",
    "actual_difference = differences[nearest_position]\n",
    "\n",
    "print(f\"\\nSmallest difference: {actual_difference}\")\n",
    "print(f\"Position: {nearest_position}\")\n",
    "print(f\"Nearest value: {nearest_value}\")"
   ]
  },
  {
   "cell_type": "markdown",
   "id": "8174ba2c",
   "metadata": {},
   "source": [
    "#### 62. Considering two arrays with shape (1,3) and (3,1), how to compute their sum using an iterator? (★★☆)"
   ]
  },
  {
   "cell_type": "code",
   "execution_count": 109,
   "id": "8a18fe57",
   "metadata": {},
   "outputs": [
    {
     "name": "stdout",
     "output_type": "stream",
     "text": [
      "[[1 2 3]\n",
      " [1 2 3]\n",
      " [1 2 3]]\n",
      "[[4 4 4]\n",
      " [5 5 5]\n",
      " [6 6 6]]\n",
      "empty matrix [[0. 0. 0.]\n",
      " [0. 0. 0.]\n",
      " [0. 0. 0.]]\n",
      "Position (0,0): 1 + 4 = 5.0\n",
      "Position (0,1): 2 + 4 = 6.0\n",
      "Position (0,2): 3 + 4 = 7.0\n",
      "Position (1,0): 1 + 5 = 6.0\n",
      "Position (1,1): 2 + 5 = 7.0\n",
      "Position (1,2): 3 + 5 = 8.0\n",
      "Position (2,0): 1 + 6 = 7.0\n",
      "Position (2,1): 2 + 6 = 8.0\n",
      "Position (2,2): 3 + 6 = 9.0\n",
      "\n",
      "Final result:\n",
      "[[5. 6. 7.]\n",
      " [6. 7. 8.]\n",
      " [7. 8. 9.]]\n"
     ]
    }
   ],
   "source": [
    "array1 = np.array([[1, 2, 3]])   \n",
    "array2 = np.array([[4], [5], [6]]) \n",
    "print(np.broadcast_to(array1, (3, 3)))\n",
    "print(np.broadcast_to(array2, (3, 3)))\n",
    "\n",
    "result = np.zeros((3, 3))\n",
    "print(\"empty matrix\",result )\n",
    "\n",
    "for i in range(3):  \n",
    "    for j in range(3):  \n",
    "        value1 = array1[0, j] \n",
    "        value2 = array2[i, 0] \n",
    "        result[i, j] = value1 + value2\n",
    "        print(f\"Position ({i},{j}): {value1} + {value2} = {result[i, j]}\")\n",
    "\n",
    "print(\"\\nFinal result:\")\n",
    "print(result)"
   ]
  },
  {
   "cell_type": "markdown",
   "id": "9189bd7c",
   "metadata": {},
   "source": [
    "#### 63. Create an array class that has a name attribute (★★☆)"
   ]
  },
  {
   "cell_type": "code",
   "execution_count": 111,
   "id": "1c01ed42",
   "metadata": {},
   "outputs": [
    {
     "name": "stdout",
     "output_type": "stream",
     "text": [
      "Array 'My Numbers':\n",
      "[1 2 3 4 5]\n"
     ]
    }
   ],
   "source": [
    "class NamedArray:\n",
    "    def __init__(self, data, name):\n",
    "        self.data = np.array(data)  \n",
    "        self.name = name       \n",
    "    \n",
    "    def show(self):\n",
    "        \"\"\"Display the array with its name\"\"\"\n",
    "        print(f\"Array '{self.name}':\")\n",
    "        print(self.data)\n",
    "\n",
    "# Create your first named array\n",
    "my_array = NamedArray([1, 2, 3, 4, 5], \"My Numbers\")\n",
    "my_array.show()"
   ]
  },
  {
   "cell_type": "markdown",
   "id": "f30162d2",
   "metadata": {},
   "source": [
    "#### 64. Consider a given vector, how to add 1 to each element indexed by a second vector (be careful with repeated indices)? (★★★)"
   ]
  },
  {
   "cell_type": "code",
   "execution_count": 116,
   "id": "093ba36f",
   "metadata": {},
   "outputs": [
    {
     "name": "stdout",
     "output_type": "stream",
     "text": [
      "Result: [10 21 30 41 51]\n"
     ]
    }
   ],
   "source": [
    "vector = np.array([10, 20, 30, 40, 50])\n",
    "# The indices telling us where to add each value\n",
    "indices = np.array([1, 3, 1, 4])\n",
    "vector[indices] += 1\n",
    "print(\"Result:\", vector)"
   ]
  },
  {
   "cell_type": "markdown",
   "id": "f5b1c584",
   "metadata": {},
   "source": [
    "#### 65. How to accumulate elements of a vector (X) to an array (F) based on an index list (I)? (★★★)"
   ]
  },
  {
   "cell_type": "code",
   "execution_count": 120,
   "id": "c9d92a75",
   "metadata": {},
   "outputs": [
    {
     "name": "stdout",
     "output_type": "stream",
     "text": [
      "F: [ 0 40 40 20  0]\n"
     ]
    }
   ],
   "source": [
    "F = np.array([0, 0, 0, 0, 0])\n",
    "X = np.array([10, 20, 30, 40])\n",
    "# The indices telling us where to add each value\n",
    "I = np.array([1, 3, 1, 2])\n",
    "np.add.at(F, I, X)\n",
    "print(f\"F: {F}\")"
   ]
  },
  {
   "cell_type": "markdown",
   "id": "994c452d",
   "metadata": {},
   "source": [
    "#### 66. Considering a (w,h,3) image of (dtype=ubyte), compute the number of unique colors (★★☆)"
   ]
  },
  {
   "cell_type": "code",
   "execution_count": 122,
   "id": "269cdaea",
   "metadata": {},
   "outputs": [
    {
     "name": "stdout",
     "output_type": "stream",
     "text": [
      "[[[255   0   0]\n",
      "  [  0 255   0]]\n",
      "\n",
      " [[  0   0 255]\n",
      "  [255   0   0]]]\n"
     ]
    }
   ],
   "source": [
    "image = np.array([\n",
    "    [[255, 0, 0], [0, 255, 0]],    \n",
    "    [[0, 0, 255], [255, 0, 0]]     \n",
    "], dtype=np.ubyte) \n",
    "print(image)"
   ]
  },
  {
   "cell_type": "markdown",
   "id": "4bddeb31",
   "metadata": {},
   "source": [
    "#### 67. Considering a four dimensions array, how to get sum over the last two axis at once? (★★★)"
   ]
  },
  {
   "cell_type": "code",
   "execution_count": 123,
   "id": "32af15f5",
   "metadata": {},
   "outputs": [
    {
     "name": "stdout",
     "output_type": "stream",
     "text": [
      "Original shape: (2, 3, 4, 5)\n",
      "New shape after sum: (2, 3)\n"
     ]
    }
   ],
   "source": [
    "A = np.random.rand(2, 3, 4, 5) \n",
    "# Sum over the last two axes (axis 2 and 3)\n",
    "S = A.sum(axis=(-2, -1))\n",
    "print(\"Original shape:\", A.shape)\n",
    "print(\"New shape after sum:\", S.shape)"
   ]
  },
  {
   "cell_type": "markdown",
   "id": "c4cf083c",
   "metadata": {},
   "source": [
    "#### 68. Considering a one-dimensional vector D, how to compute means of subsets of D using a vector S of same size describing subset  indices? (★★★)"
   ]
  },
  {
   "cell_type": "code",
   "execution_count": 124,
   "id": "9600a2dd",
   "metadata": {},
   "outputs": [
    {
     "name": "stdout",
     "output_type": "stream",
     "text": [
      "Groups: [0 1]\n",
      "Means: [26.66666667 35.        ]\n"
     ]
    }
   ],
   "source": [
    "D = np.array([10, 20, 30, 40, 50])\n",
    "S = np.array([0, 0, 1, 1, 0])  \n",
    "# Find unique groups\n",
    "groups = np.unique(S)\n",
    "# Compute mean for each group\n",
    "means = np.array([D[S == g].mean() for g in groups])\n",
    "\n",
    "print(\"Groups:\", groups)\n",
    "print(\"Means:\", means)\n"
   ]
  },
  {
   "cell_type": "markdown",
   "id": "a5e316db",
   "metadata": {},
   "source": [
    "#### 69. How to get the diagonal of a dot product? (★★★)"
   ]
  },
  {
   "cell_type": "code",
   "execution_count": 1,
   "id": "94735dbd",
   "metadata": {},
   "outputs": [
    {
     "name": "stdout",
     "output_type": "stream",
     "text": [
      "Full Dot Product C:\n",
      "[[ 30  24  18]\n",
      " [ 84  69  54]\n",
      " [138 114  90]]\n",
      "\n",
      "Diagonal of C (using np.diag): [30 69 90]\n",
      "Manually calculated C[1,1]: 69\n"
     ]
    }
   ],
   "source": [
    "import numpy as np\n",
    "A = np.array([[1, 2, 3],\n",
    "              [4, 5, 6],\n",
    "              [7, 8, 9]])\n",
    "\n",
    "B = np.array([[9, 8, 7],\n",
    "              [6, 5, 4],\n",
    "              [3, 2, 1]])\n",
    "\n",
    "# Calculate the dot product\n",
    "C = A @ B  \n",
    "print(\"Full Dot Product C:\")\n",
    "print(C)\n",
    "diagonal_elements = np.diag(C)\n",
    "print(\"\\nDiagonal of C (using np.diag):\", diagonal_elements)\n",
    "manual_calc = 4*8 + 5*5 + 6*2\n",
    "print(\"Manually calculated C[1,1]:\", manual_calc)"
   ]
  },
  {
   "cell_type": "markdown",
   "id": "de727a7b",
   "metadata": {},
   "source": [
    "#### 70. Consider the vector [1, 2, 3, 4, 5], how to build a new vector with 3 consecutive zeros interleaved between each value? (★★★)"
   ]
  },
  {
   "cell_type": "code",
   "execution_count": 125,
   "id": "982be812",
   "metadata": {},
   "outputs": [
    {
     "name": "stdout",
     "output_type": "stream",
     "text": [
      "[1 0 0 0 2 0 0 0 3 0 0 0 4 0 0 0 5]\n"
     ]
    }
   ],
   "source": [
    "v = np.array([1, 2, 3, 4, 5])\n",
    "n_zeros = 3\n",
    "new_length = len(v) + (len(v)-1)*n_zeros\n",
    "new_v = np.zeros(new_length, dtype=v.dtype)\n",
    "new_v[::n_zeros+1] = v\n",
    "\n",
    "print(new_v)"
   ]
  },
  {
   "cell_type": "markdown",
   "id": "a9a73d6b",
   "metadata": {},
   "source": [
    "#### 71. Consider an array of dimension (5,5,3), how to mulitply it by an array with dimensions (5,5)? (★★★)"
   ]
  },
  {
   "cell_type": "code",
   "execution_count": 127,
   "id": "282a90cc",
   "metadata": {},
   "outputs": [
    {
     "name": "stdout",
     "output_type": "stream",
     "text": [
      "Result : [[[ 86.81359397 165.19868367  31.18546579]\n",
      "  [212.5510277   91.5870282  122.69205664]\n",
      "  [177.30690097   7.57721799 151.5443598 ]\n",
      "  [122.758077    80.96809334  24.8128028 ]\n",
      "  [ 42.72027948  34.89195601  18.78797631]]\n",
      "\n",
      " [[ 34.47966729  69.2756618   10.43879835]\n",
      "  [  2.3428307    2.18576943   1.17795957]\n",
      "  [ 60.70782284  16.55667896  76.83997157]\n",
      "  [ 76.19288436 187.69466634 144.95231658]\n",
      "  [ 46.67640673  40.41493753  50.3763658 ]]\n",
      "\n",
      " [[140.37816219  46.79272073  33.86315316]\n",
      "  [ 17.31483865  52.50305912  84.34002051]\n",
      "  [ 48.56206133 122.71764148 134.53003477]\n",
      "  [ 51.01968724  16.55605745   2.36515106]\n",
      "  [ 49.18517434  74.2331798   43.72015497]]\n",
      "\n",
      " [[ 13.47815243 131.41198616  89.62971364]\n",
      "  [144.81579847  14.62785843  74.602078  ]\n",
      "  [ 20.08685812  40.82167941  39.52575307]\n",
      "  [ 20.62696223   4.72373181  19.99713132]\n",
      "  [  1.57283576   0.8074451    1.79151881]]\n",
      "\n",
      " [[217.52371826  80.14031725   3.81620558]\n",
      "  [  6.77202805   6.49785688   2.9610487 ]\n",
      "  [ 44.18586612  32.04470471   8.95659448]\n",
      "  [107.84535808   5.16006498  93.91318263]\n",
      "  [228.13090498 215.23654948 125.96793449]]]\n",
      "Result shape: (5, 5, 3)\n"
     ]
    }
   ],
   "source": [
    "# (5,5,3) array - like 5x5 RGB image\n",
    "array_3d = np.random.randint(0, 256, (5, 5, 3))\n",
    "# (5,5) array - like a mask or weights\n",
    "array_2d = np.random.random((5, 5))\n",
    "\n",
    "result = array_3d * array_2d[:, :, np.newaxis]\n",
    "print(f\"Result : {result}\")\n",
    "print(f\"Result shape: {result.shape}\")"
   ]
  },
  {
   "cell_type": "markdown",
   "id": "a951c78f",
   "metadata": {},
   "source": [
    "#### 72. How to swap two rows of an array? (★★★)"
   ]
  },
  {
   "cell_type": "code",
   "execution_count": 130,
   "id": "e29b3fde",
   "metadata": {},
   "outputs": [
    {
     "name": "stdout",
     "output_type": "stream",
     "text": [
      "[[1 2 3]\n",
      " [4 5 6]\n",
      " [7 8 9]]\n",
      "swip A :  [[7 8 9]\n",
      " [4 5 6]\n",
      " [1 2 3]]\n"
     ]
    }
   ],
   "source": [
    "A = np.array([[1, 2, 3],\n",
    "              [4, 5, 6],\n",
    "              [7, 8, 9]])\n",
    "print(A)\n",
    "A[[0, 2]] = A[[2, 0]]\n",
    "\n",
    "print(\"swip A : \", A)"
   ]
  },
  {
   "cell_type": "markdown",
   "id": "43b639e8",
   "metadata": {},
   "source": [
    "#### 73. Consider a set of 10 triplets describing 10 triangles (with shared vertices), find the set of unique line segments composing all the  triangles (★★★)"
   ]
  },
  {
   "cell_type": "code",
   "execution_count": 134,
   "id": "147e1034",
   "metadata": {},
   "outputs": [
    {
     "name": "stdout",
     "output_type": "stream",
     "text": [
      "\n",
      "Found 20 unique line segments:\n",
      "  0 — 1\n",
      "  0 — 2\n",
      "  0 — 8\n",
      "  0 — 9\n",
      "  1 — 2\n",
      "  1 — 3\n",
      "  1 — 9\n",
      "  2 — 3\n",
      "  2 — 4\n",
      "  3 — 4\n",
      "  3 — 5\n",
      "  4 — 5\n",
      "  4 — 6\n",
      "  5 — 6\n",
      "  5 — 7\n",
      "  6 — 7\n",
      "  6 — 8\n",
      "  7 — 8\n",
      "  7 — 9\n",
      "  8 — 9\n"
     ]
    }
   ],
   "source": [
    "triangles = np.array([\n",
    "    [0, 1, 2],  # \n",
    "    [1, 2, 3],  \n",
    "    [2, 3, 4],  \n",
    "    [3, 4, 5],  \n",
    "    [4, 5, 6],\n",
    "    [5, 6, 7],\n",
    "    [6, 7, 8],\n",
    "    [7, 8, 9],\n",
    "    [8, 9, 0],\n",
    "    [9, 0, 1]\n",
    "])\n",
    "segments = set()\n",
    "for triangle in triangles:\n",
    "    edges = [\n",
    "        tuple(sorted([triangle[0], triangle[1]])),  \n",
    "        tuple(sorted([triangle[1], triangle[2]])),  \n",
    "        tuple(sorted([triangle[0], triangle[2]]))   \n",
    "    ]\n",
    "    segments.update(edges)\n",
    "\n",
    "print(f\"\\nFound {len(segments)} unique line segments:\")\n",
    "for segment in sorted(segments):\n",
    "    print(f\"  {segment[0]} — {segment[1]}\")"
   ]
  },
  {
   "cell_type": "markdown",
   "id": "d41de585",
   "metadata": {},
   "source": [
    "#### 74. Given a sorted array C that corresponds to a bincount, how to produce an array A such that np.bincount(A) == C? (★★★)"
   ]
  },
  {
   "cell_type": "code",
   "execution_count": 136,
   "id": "5f5d6e36",
   "metadata": {},
   "outputs": [
    {
     "name": "stdout",
     "output_type": "stream",
     "text": [
      "A: [0 0 2 2 2 3]\n",
      "C: [2 0 3 1]\n",
      "Check: [2 0 3 1]\n"
     ]
    }
   ],
   "source": [
    "C = np.array([2, 0, 3, 1]) \n",
    "A = np.repeat(np.arange(len(C)), C)\n",
    "print(\"A:\", A)\n",
    "print(\"C:\", C)\n",
    "print(\"Check:\", np.bincount(A))   #  equal C"
   ]
  },
  {
   "cell_type": "markdown",
   "id": "b50adf7c",
   "metadata": {},
   "source": [
    "#### 75. How to compute averages using a sliding window over an array? (★★★)"
   ]
  },
  {
   "cell_type": "code",
   "execution_count": 137,
   "id": "e631a9d2",
   "metadata": {},
   "outputs": [
    {
     "name": "stdout",
     "output_type": "stream",
     "text": [
      "[2. 3. 4. 5. 6. 7. 8. 9.]\n"
     ]
    }
   ],
   "source": [
    "arr = np.array([1, 2, 3, 4, 5, 6, 7, 8, 9, 10])\n",
    "window_size = 3\n",
    "moving_avg = np.convolve(arr, np.ones(window_size)/window_size, mode='valid')\n",
    "print(moving_avg)"
   ]
  },
  {
   "cell_type": "markdown",
   "id": "1ab4c50d",
   "metadata": {},
   "source": [
    "#### 76. Consider a one-dimensional array Z, build a two-dimensional array whose first row is (Z[0],Z[1],Z[2]) and each subsequent row is  shifted by 1 (last row should be (Z[-3],Z[-2],Z[-1]) (★★★)"
   ]
  },
  {
   "cell_type": "code",
   "execution_count": 139,
   "id": "3ccfe2c0",
   "metadata": {},
   "outputs": [
    {
     "name": "stdout",
     "output_type": "stream",
     "text": [
      "[[0 1 2]\n",
      " [1 2 3]\n",
      " [2 3 4]\n",
      " [3 4 5]\n",
      " [4 5 6]\n",
      " [5 6 7]\n",
      " [6 7 8]\n",
      " [7 8 9]]\n"
     ]
    }
   ],
   "source": [
    "Z = np.array([0, 1, 2, 3, 4, 5, 6, 7, 8, 9])\n",
    "result = np.array([Z[i:i+3] for i in range(len(Z)-2)])\n",
    "\n",
    "print(result)"
   ]
  },
  {
   "cell_type": "markdown",
   "id": "5b4fe59d",
   "metadata": {},
   "source": [
    "#### 77. How to negate a boolean, or to change the sign of a float inplace? (★★★)"
   ]
  },
  {
   "cell_type": "code",
   "execution_count": 138,
   "id": "3c2373ff",
   "metadata": {},
   "outputs": [
    {
     "name": "stdout",
     "output_type": "stream",
     "text": [
      "[False  True False  True]\n"
     ]
    }
   ],
   "source": [
    "b = np.array([True, False, True, False])\n",
    "b[:] = ~b\n",
    "print(b)"
   ]
  },
  {
   "cell_type": "markdown",
   "id": "119ab5af",
   "metadata": {},
   "source": [
    "#### 78. Consider 2 sets of points P0,P1 describing lines (2d) and a point p, how to compute distance from p to each line i (P0[i],P1[i])? (★★★)"
   ]
  },
  {
   "cell_type": "code",
   "execution_count": 2,
   "id": "1d8d06dc",
   "metadata": {},
   "outputs": [
    {
     "name": "stdout",
     "output_type": "stream",
     "text": [
      "Distances: [0.2        0.4472136  1.34164079]\n"
     ]
    },
    {
     "name": "stderr",
     "output_type": "stream",
     "text": [
      "C:\\Users\\admin\\AppData\\Local\\Temp\\ipykernel_21896\\1574320054.py:5: DeprecationWarning: Arrays of 2-dimensional vectors are deprecated. Use arrays of 3-dimensional vectors instead. (deprecated in NumPy 2.0)\n",
      "  distances = np.abs(np.cross(P1-P0, p-P0)) / np.linalg.norm(P1-P0, axis=1)\n"
     ]
    }
   ],
   "source": [
    "import numpy as np\n",
    "P0 = np.array([[0, 0], [1, 0], [2, 2]])  \n",
    "P1 = np.array([[4, 3], [3, 4], [0, 3]])  \n",
    "p = np.array([1, 1])\n",
    "distances = np.abs(np.cross(P1-P0, p-P0)) / np.linalg.norm(P1-P0, axis=1)\n",
    "print(\"Distances:\", distances)"
   ]
  },
  {
   "cell_type": "markdown",
   "id": "e5e7f323",
   "metadata": {},
   "source": [
    "#### 79. Consider 2 sets of points P0,P1 describing lines (2d) and a set of points P, how to compute distance from each point j (P[j]) to each line i (P0[i],P1[i])? (★★★)"
   ]
  },
  {
   "cell_type": "code",
   "execution_count": 4,
   "id": "d0ce77e2",
   "metadata": {},
   "outputs": [
    {
     "name": "stdout",
     "output_type": "stream",
     "text": [
      "Distance matrix (rows=lines, columns=points):\n",
      "[[0.2        0.4        0.8       ]\n",
      " [0.4472136  0.         1.34164079]]\n"
     ]
    },
    {
     "name": "stderr",
     "output_type": "stream",
     "text": [
      "C:\\Users\\admin\\AppData\\Local\\Temp\\ipykernel_21896\\162627035.py:8: DeprecationWarning: Arrays of 2-dimensional vectors are deprecated. Use arrays of 3-dimensional vectors instead. (deprecated in NumPy 2.0)\n",
      "  cross_products = np.abs(np.cross(line_vectors, point_vectors))\n"
     ]
    }
   ],
   "source": [
    "P0 = np.array([[0, 0], [1, 0]])        \n",
    "P1 = np.array([[4, 3], [3, 4]])  \n",
    "\n",
    "P = np.array([[1, 1], [2, 2], [0, 1]]) \n",
    "\n",
    "line_vectors = (P1 - P0)[:, np.newaxis, :] \n",
    "point_vectors = P[np.newaxis, :, :] - P0[:, np.newaxis, :] \n",
    "cross_products = np.abs(np.cross(line_vectors, point_vectors))\n",
    "line_lengths = np.linalg.norm(P1 - P0, axis=1)[:, np.newaxis] \n",
    "distances = cross_products / line_lengths\n",
    "\n",
    "print(\"Distance matrix (rows=lines, columns=points):\")\n",
    "print(distances)"
   ]
  },
  {
   "cell_type": "markdown",
   "id": "9b9d03eb",
   "metadata": {},
   "source": [
    "#### 80. Consider an arbitrary array, write a function that extract a subpart with a fixed shape and centered on a given element (pad with a `fill` value when necessary) (★★★)"
   ]
  },
  {
   "cell_type": "code",
   "execution_count": 6,
   "id": "ec2b7ae3",
   "metadata": {},
   "outputs": [
    {
     "name": "stdout",
     "output_type": "stream",
     "text": [
      "Original array:\n",
      "[[ 1  2  3  4]\n",
      " [ 5  6  7  8]\n",
      " [ 9 10 11 12]]\n",
      "\n",
      "3x3 subpart centered on element 7 (position 1,2):\n",
      "[[ 2  3  4]\n",
      " [ 6  7  8]\n",
      " [10 11 12]]\n"
     ]
    }
   ],
   "source": [
    "import numpy as np\n",
    "\n",
    "def extract_centered_subpart(arr, center, shape, fill_value=0):\n",
    "    \"\"\"\n",
    "    Extract a subpart of fixed shape centered on given element\n",
    "    \n",
    "    Parameters:\n",
    "    arr: input array\n",
    "    center: (row, col) coordinates of center element\n",
    "    shape: (height, width) of output subpart\n",
    "    fill_value: value to use for padding when needed\n",
    "    \"\"\"\n",
    "    center_row, center_col = center\n",
    "    height, width = shape\n",
    "    \n",
    "    start_row = center_row - height // 2\n",
    "    end_row = start_row + height\n",
    "    start_col = center_col - width // 2\n",
    "    end_col = start_col + width\n",
    "    \n",
    "    result = np.full(shape, fill_value, dtype=arr.dtype)\n",
    "    \n",
    "    arr_start_row = max(start_row, 0)\n",
    "    arr_end_row = min(end_row, arr.shape[0])\n",
    "    arr_start_col = max(start_col, 0)\n",
    "    arr_end_col = min(end_col, arr.shape[1])\n",
    "    \n",
    "    \n",
    "    result_start_row = arr_start_row - start_row\n",
    "    result_end_row = result_start_row + (arr_end_row - arr_start_row)\n",
    "    result_start_col = arr_start_col - start_col\n",
    "    result_end_col = result_start_col + (arr_end_col - arr_start_col)\n",
    "    \n",
    "    result[result_start_row:result_end_row, result_start_col:result_end_col] = \\\n",
    "        arr[arr_start_row:arr_end_row, arr_start_col:arr_end_col]\n",
    "    \n",
    "    return result\n",
    "\n",
    "# Test it\n",
    "arr = np.array([[1, 2, 3, 4],\n",
    "                [5, 6, 7, 8],\n",
    "                [9, 10, 11, 12]])\n",
    "\n",
    "print(\"Original array:\")\n",
    "print(arr)\n",
    "\n",
    "\n",
    "result = extract_centered_subpart(arr, center=(1,2), shape=(3,3), fill_value=0)\n",
    "print(\"\\n3x3 subpart centered on element 7 (position 1,2):\")\n",
    "print(result)"
   ]
  },
  {
   "cell_type": "markdown",
   "id": "27794913",
   "metadata": {},
   "source": [
    "#### 81. Consider an array Z = [1,2,3,4,5,6,7,8,9,10,11,12,13,14], how to generate an array R = [[1,2,3,4], [2,3,4,5], [3,4,5,6], ..., [11,12,13,14]]? (★★★)"
   ]
  },
  {
   "cell_type": "code",
   "execution_count": 8,
   "id": "f3e7878b",
   "metadata": {},
   "outputs": [
    {
     "name": "stdout",
     "output_type": "stream",
     "text": [
      "Original Z: [ 1  2  3  4  5  6  7  8  9 10 11 12 13 14]\n",
      "\n",
      "Window size 2: (13, 2) windows\n",
      "First window: [1 2]\n",
      "Last window: [13 14]\n",
      "\n",
      "Window size 3: (12, 3) windows\n",
      "First window: [1 2 3]\n",
      "Last window: [12 13 14]\n",
      "\n",
      "Window size 4: (11, 4) windows\n",
      "First window: [1 2 3 4]\n",
      "Last window: [11 12 13 14]\n",
      "\n",
      "Window size 5: (10, 5) windows\n",
      "First window: [1 2 3 4 5]\n",
      "Last window: [10 11 12 13 14]\n",
      "\n"
     ]
    }
   ],
   "source": [
    "import numpy as np\n",
    "\n",
    "Z = np.array([1,2,3,4,5,6,7,8,9,10,11,12,13,14])\n",
    "\n",
    "def generate_windows(arr, window_size):\n",
    "    return np.array([arr[i:i+window_size] for i in range(len(arr)-window_size+1)])\n",
    "\n",
    "print(\"Original Z:\", Z)\n",
    "print()\n",
    "\n",
    "window_sizes = [2, 3, 4, 5]\n",
    "for size in window_sizes:\n",
    "    result = generate_windows(Z, size)\n",
    "    print(f\"Window size {size}: {result.shape} windows\")\n",
    "    print(f\"First window: {result[0]}\")\n",
    "    print(f\"Last window: {result[-1]}\")\n",
    "    print()"
   ]
  },
  {
   "cell_type": "markdown",
   "id": "fae786f5",
   "metadata": {},
   "source": [
    "#### 82. Compute a matrix rank (★★★)"
   ]
  },
  {
   "cell_type": "code",
   "execution_count": 140,
   "id": "64b9615b",
   "metadata": {},
   "outputs": [
    {
     "name": "stdout",
     "output_type": "stream",
     "text": [
      "Matrix A:\n",
      "[[1 2 3]\n",
      " [4 5 6]\n",
      " [7 8 9]]\n",
      "\n",
      "Rank of A: 2\n"
     ]
    }
   ],
   "source": [
    "A = np.array([[1, 2, 3],\n",
    "              [4, 5, 6],\n",
    "              [7, 8, 9]])\n",
    "print(A)\n",
    "rank = np.linalg.matrix_rank(A)\n",
    "print(f\"\\nRank of A: {rank}\")"
   ]
  },
  {
   "cell_type": "markdown",
   "id": "c85aa0b9",
   "metadata": {},
   "source": [
    "#### 83. How to find the most frequent value in an array?"
   ]
  },
  {
   "cell_type": "code",
   "execution_count": 141,
   "id": "056be85b",
   "metadata": {},
   "outputs": [
    {
     "name": "stdout",
     "output_type": "stream",
     "text": [
      "Most frequent value: 3\n"
     ]
    }
   ],
   "source": [
    "arr = np.array([1, 2, 2, 3, 3, 3, 4])\n",
    "most_frequent = np.bincount(arr).argmax()\n",
    "print(\"Most frequent value:\", most_frequent)"
   ]
  },
  {
   "cell_type": "markdown",
   "id": "0ff2344d",
   "metadata": {},
   "source": [
    "#### 84. Extract all the contiguous 3x3 blocks from a random 10x10 matrix (★★★)"
   ]
  },
  {
   "cell_type": "code",
   "execution_count": 143,
   "id": "d58b1318",
   "metadata": {},
   "outputs": [
    {
     "name": "stdout",
     "output_type": "stream",
     "text": [
      "Shape of blocks: (8, 8, 3, 3)\n"
     ]
    }
   ],
   "source": [
    "from numpy.lib.stride_tricks import sliding_window_view\n",
    "A = np.random.rand(10, 10)\n",
    "blocks = sliding_window_view(A, (3, 3))\n",
    "print(\"Shape of blocks:\", blocks.shape)"
   ]
  },
  {
   "cell_type": "markdown",
   "id": "1a18b263",
   "metadata": {},
   "source": [
    "#### 85. Create a 2D array subclass such that Z[i,j] == Z[j,i] (★★★)"
   ]
  },
  {
   "cell_type": "code",
   "execution_count": 142,
   "id": "87f17adc",
   "metadata": {},
   "outputs": [
    {
     "name": "stdout",
     "output_type": "stream",
     "text": [
      "[[1 3 5]\n",
      " [3 5 7]\n",
      " [5 7 9]]\n"
     ]
    }
   ],
   "source": [
    "class SymmetricArray(np.ndarray):\n",
    "    def __new__(cls, input_array):\n",
    "        obj = np.asarray(input_array).view(cls)\n",
    "        obj[:] = (obj + obj.T) / 2\n",
    "        return obj\n",
    "Z = SymmetricArray([[1, 2, 3],\n",
    "                    [4, 5, 6],\n",
    "                    [7, 8, 9]])\n",
    "\n",
    "print(Z)"
   ]
  },
  {
   "cell_type": "markdown",
   "id": "f85f2cad",
   "metadata": {},
   "source": [
    "#### 86. Consider a set of p matrices wich shape (n,n) and a set of p vectors with shape (n,1). How to compute the sum of of the p matrix products at once? (result has shape (n,1)) (★★★)"
   ]
  },
  {
   "cell_type": "code",
   "execution_count": 9,
   "id": "8d230557",
   "metadata": {},
   "outputs": [
    {
     "name": "stdout",
     "output_type": "stream",
     "text": [
      "Matrices shape: (3, 3, 3)\n",
      "Vectors shape: (3, 3, 1)\n",
      "Matrix 0 @ Vector 0 = [14 32 50]\n",
      "Matrix 1 @ Vector 1 = [14 14 17]\n",
      "Matrix 2 @ Vector 2 = [24 24 24]\n",
      "\n",
      "Final sum: [52. 70. 91.]\n"
     ]
    }
   ],
   "source": [
    "n, p = 3, 3\n",
    "matrices = np.array([\n",
    "    [[1, 2, 3],\n",
    "     [4, 5, 6],\n",
    "     [7, 8, 9]],\n",
    "    \n",
    "    [[2, 0, 1],\n",
    "     [1, 2, 0],\n",
    "     [0, 1, 2]],\n",
    "    \n",
    "    [[1, 1, 1],\n",
    "     [1, 1, 1],\n",
    "     [1, 1, 1]]\n",
    "])\n",
    "\n",
    "vectors = np.array([\n",
    "    [[1], [2], [3]],\n",
    "    [[4], [5], [6]],\n",
    "    [[7], [8], [9]]\n",
    "])\n",
    "\n",
    "print(f\"Matrices shape: {matrices.shape}\")  \n",
    "print(f\"Vectors shape: {vectors.shape}\")  \n",
    "\n",
    "result = np.zeros((n, 1))\n",
    "\n",
    "for i in range(p):\n",
    "    product = matrices[i] @ vectors[i]  \n",
    "    result += product\n",
    "    print(f\"Matrix {i} @ Vector {i} = {product.T[0]}\")\n",
    "\n",
    "print(f\"\\nFinal sum: {result.T[0]}\")"
   ]
  },
  {
   "cell_type": "markdown",
   "id": "5afb72c8",
   "metadata": {},
   "source": [
    "#### 87. Consider a 16x16 array, how to get the block-sum (block size is 4x4)? (★★★)"
   ]
  },
  {
   "cell_type": "code",
   "execution_count": 144,
   "id": "e86f47a9",
   "metadata": {},
   "outputs": [
    {
     "name": "stdout",
     "output_type": "stream",
     "text": [
      "[[ 408  472  536  600]\n",
      " [1432 1496 1560 1624]\n",
      " [2456 2520 2584 2648]\n",
      " [3480 3544 3608 3672]]\n"
     ]
    }
   ],
   "source": [
    "A = np.arange(16*16).reshape(16,16)\n",
    "block_size = 4\n",
    "block_sum = A.reshape(16//block_size, block_size, 16//block_size, block_size).sum(axis=(1,3))\n",
    "print(block_sum)"
   ]
  },
  {
   "cell_type": "markdown",
   "id": "6094d37c",
   "metadata": {},
   "source": [
    "#### 88. How to implement the Game of Life using numpy arrays? (★★★)"
   ]
  },
  {
   "cell_type": "code",
   "execution_count": 2,
   "id": "a93e715f",
   "metadata": {
    "scrolled": true
   },
   "outputs": [
    {
     "name": "stdout",
     "output_type": "stream",
     "text": [
      "Initial grid:\n",
      "[[0 0 1 0 0 0 0 1 0 1]\n",
      " [0 1 1 0 1 0 0 1 1 1]\n",
      " [0 0 1 0 0 1 0 1 0 1]\n",
      " [1 0 0 1 1 1 1 0 0 0]\n",
      " [1 1 1 1 0 1 0 0 0 0]\n",
      " [0 1 0 0 1 0 1 1 0 0]\n",
      " [0 0 0 0 0 0 0 0 1 0]\n",
      " [0 0 1 1 1 0 0 0 1 1]\n",
      " [0 0 0 0 0 0 0 1 1 1]\n",
      " [1 0 0 0 0 0 1 0 0 0]]\n",
      "\n",
      "Generation 1:\n",
      "[[0 0 1 1 0 0 1 1 0 1]\n",
      " [0 1 1 0 0 0 0 1 0 1]\n",
      " [0 0 1 0 0 0 0 1 0 1]\n",
      " [1 0 0 0 0 0 0 0 0 1]\n",
      " [1 0 0 0 0 0 0 1 0 0]\n",
      " [1 1 0 1 1 1 1 1 0 0]\n",
      " [0 0 1 0 1 1 0 0 1 1]\n",
      " [0 0 0 1 0 0 0 0 0 0]\n",
      " [1 0 0 1 0 0 0 1 0 0]\n",
      " [1 0 0 0 0 0 1 0 0 0]]\n",
      "\n",
      "Generation 2:\n",
      "[[0 0 1 1 0 0 1 1 0 1]\n",
      " [0 1 0 0 0 0 0 1 0 1]\n",
      " [0 0 1 0 0 0 0 0 0 1]\n",
      " [1 1 0 0 0 0 0 0 0 1]\n",
      " [0 0 0 0 1 1 0 1 1 0]\n",
      " [1 1 1 1 0 0 0 1 0 0]\n",
      " [1 1 1 0 0 0 0 1 1 1]\n",
      " [0 0 1 1 0 0 0 0 1 1]\n",
      " [0 0 0 0 0 0 0 0 0 0]\n",
      " [1 1 1 1 0 0 1 0 1 1]]\n",
      "\n",
      "Generation 3:\n",
      "[[0 0 0 1 0 0 1 0 0 0]\n",
      " [0 1 0 1 0 0 1 1 0 1]\n",
      " [0 0 1 0 0 0 0 0 0 1]\n",
      " [1 1 0 0 0 0 0 0 0 1]\n",
      " [0 0 0 1 1 0 1 1 1 0]\n",
      " [0 0 0 1 1 0 0 0 0 0]\n",
      " [0 0 0 0 0 0 0 1 0 0]\n",
      " [0 0 1 1 0 0 0 1 0 0]\n",
      " [0 0 0 0 0 0 0 1 0 0]\n",
      " [1 1 0 1 0 0 1 0 1 1]]\n",
      "\n",
      "Generation 4:\n",
      "[[0 1 0 1 1 1 1 0 0 0]\n",
      " [1 0 0 1 0 0 1 1 1 0]\n",
      " [0 0 1 0 0 0 0 0 0 1]\n",
      " [1 1 1 1 0 0 0 1 0 1]\n",
      " [1 0 1 1 1 1 0 1 1 1]\n",
      " [0 0 0 1 1 1 1 0 1 0]\n",
      " [0 0 1 0 1 0 0 0 0 0]\n",
      " [0 0 0 0 0 0 1 1 1 0]\n",
      " [1 1 0 1 0 0 1 1 0 1]\n",
      " [1 0 1 0 0 0 1 0 1 1]]\n",
      "\n",
      "Generation 5:\n",
      "[[0 1 0 1 1 0 0 0 0 0]\n",
      " [1 1 0 1 0 0 1 1 1 1]\n",
      " [0 0 0 0 0 0 1 0 0 0]\n",
      " [0 0 0 0 0 0 1 1 0 0]\n",
      " [0 0 0 0 0 0 0 0 0 0]\n",
      " [0 1 0 0 0 0 1 0 1 0]\n",
      " [0 0 0 0 1 0 0 0 1 0]\n",
      " [1 1 1 1 0 1 1 0 1 1]\n",
      " [0 1 1 0 0 1 0 0 0 0]\n",
      " [0 0 0 0 0 0 0 0 1 0]]\n"
     ]
    }
   ],
   "source": [
    "grid = np.random.choice([0, 1], size=(10, 10), p=[0.7, 0.3])\n",
    "print(\"Initial grid:\")\n",
    "print(grid)\n",
    "# Game of Life \n",
    "for generation in range(5):  # Run for 5 generations\n",
    "    neighbors = sum(np.roll(np.roll(grid, i, 0), j, 1)\n",
    "                   for i in (-1, 0, 1) for j in (-1, 0, 1)\n",
    "                   if (i != 0 or j != 0))\n",
    "    # Apply the rules\n",
    "    grid = np.where((grid == 1) & ((neighbors == 2) | (neighbors == 3)), 1,\n",
    "                   np.where((grid == 0) & (neighbors == 3), 1, 0))\n",
    "    print(f\"\\nGeneration {generation + 1}:\")\n",
    "    print(grid)"
   ]
  },
  {
   "cell_type": "markdown",
   "id": "a173cf96",
   "metadata": {},
   "source": [
    "#### 89. How to get the n largest values of an array (★★★)"
   ]
  },
  {
   "cell_type": "code",
   "execution_count": 145,
   "id": "b7c2ff35",
   "metadata": {},
   "outputs": [
    {
     "name": "stdout",
     "output_type": "stream",
     "text": [
      "[10  8  7]\n"
     ]
    }
   ],
   "source": [
    "arr = np.array([10, 3, 5, 8, 2, 7])\n",
    "n = 3\n",
    "largest_desc = np.sort(arr)[-n:][::-1]\n",
    "print(largest_desc)"
   ]
  },
  {
   "cell_type": "markdown",
   "id": "15db2d01",
   "metadata": {},
   "source": [
    "#### 90. Given an arbitrary number of vectors, build the cartesian product (every combinations of every item) (★★★)"
   ]
  },
  {
   "cell_type": "code",
   "execution_count": 3,
   "id": "a9a4633d",
   "metadata": {},
   "outputs": [
    {
     "name": "stdout",
     "output_type": "stream",
     "text": [
      "All possible combinations:\n",
      "['red', 'S', 'cotton']\n",
      "['red', 'S', 'silk']\n",
      "['red', 'M', 'cotton']\n",
      "['red', 'M', 'silk']\n",
      "['red', 'L', 'cotton']\n",
      "['red', 'L', 'silk']\n",
      "['blue', 'S', 'cotton']\n",
      "['blue', 'S', 'silk']\n",
      "['blue', 'M', 'cotton']\n",
      "['blue', 'M', 'silk']\n",
      "['blue', 'L', 'cotton']\n",
      "['blue', 'L', 'silk']\n"
     ]
    }
   ],
   "source": [
    "def cartesian_product(*vectors):\n",
    "    \"\"\"\n",
    "    Build Cartesian product of any number of vectors.\n",
    "    This is the most beginner-friendly approach.\n",
    "    \"\"\"\n",
    "    result = [[]]\n",
    "    \n",
    "    for vector in vectors:\n",
    "        # For each existing combination, add each element from the current vector\n",
    "        new_result = []\n",
    "        for combination in result:\n",
    "            for item in vector:\n",
    "                new_result.append(combination + [item])\n",
    "        result = new_result\n",
    "    return result\n",
    "\n",
    "colors = ['red', 'blue']\n",
    "sizes = ['S', 'M', 'L']\n",
    "styles = ['cotton', 'silk']\n",
    "# Get all combinations\n",
    "combinations = cartesian_product(colors, sizes, styles)\n",
    "print(\"All possible combinations:\")\n",
    "for combo in combinations:\n",
    "    print(combo)"
   ]
  },
  {
   "cell_type": "markdown",
   "id": "5d94d1ef",
   "metadata": {},
   "source": [
    "#### 91. How to create a record array from a regular array? (★★★)"
   ]
  },
  {
   "cell_type": "raw",
   "id": "e9f2ad38-cbcf-4619-a6fc-bd5f1ab0bce5",
   "metadata": {},
   "source": [
    "Using  np.rec.fromarrays()"
   ]
  },
  {
   "cell_type": "code",
   "execution_count": 5,
   "id": "c7c7f062-0966-4bf3-933c-8427899ec041",
   "metadata": {},
   "outputs": [
    {
     "name": "stdout",
     "output_type": "stream",
     "text": [
      "Record Array:\n",
      "[(1, 'alice', 25, 85.5) (2, 'bob', 30, 92. ) (3, 'charlie', 35, 78.5)]\n",
      "\n",
      "Access by name: ['alice' 'bob' 'charlie']\n",
      "First person's age: 25\n"
     ]
    }
   ],
   "source": [
    "# record array from regular array \n",
    "import numpy as np\n",
    "data = [ [1, 'alice', 25, 85.5],\n",
    "         [2,'bob', 30,92.0],\n",
    "         [3,'charlie', 35, 78.5] ]\n",
    "# convert to record aray wih column names\n",
    "record_array = np.rec.fromarrays(\n",
    "    list(zip(*data)),  \n",
    "    names='id, name, age, score',\n",
    "    formats='i4, U10, i4, f4'\n",
    ")\n",
    "print(\"Record Array:\")\n",
    "print(record_array)\n",
    "print(f\"\\nAccess by name: {record_array['name']}\")\n",
    "print(f\"First person's age: {record_array[0]['age']}\")"
   ]
  },
  {
   "cell_type": "markdown",
   "id": "114ccc36",
   "metadata": {},
   "source": [
    "#### 92. Consider a large vector Z, compute Z to the power of 3 using 3 different methods (★★★)"
   ]
  },
  {
   "cell_type": "markdown",
   "id": "65a7cc62-8204-4877-a967-8460e1a05a87",
   "metadata": {},
   "source": [
    "## compute Z to the power of 3\n",
    "### methode 1"
   ]
  },
  {
   "cell_type": "code",
   "execution_count": 6,
   "id": "aa8ecc3c-e19a-40b4-b5b9-77789f33dcb8",
   "metadata": {},
   "outputs": [
    {
     "name": "stdout",
     "output_type": "stream",
     "text": [
      "Method 1 (**): First 5 elements: [0.04828268 0.2903036  0.00130017 0.8827013  0.81108805]\n"
     ]
    }
   ],
   "source": [
    "# ysing **\n",
    "Z = np.random.rand(10_000_000)\n",
    "result1 = Z ** 3\n",
    "print(f\"Method 1 (**): First 5 elements: {result1[:5]}\")"
   ]
  },
  {
   "cell_type": "markdown",
   "id": "ed0efb4f-fc54-4044-8859-887c60b76ef5",
   "metadata": {},
   "source": [
    "### methode 2 np.power()"
   ]
  },
  {
   "cell_type": "code",
   "execution_count": null,
   "id": "e0ff3558-3f16-4105-a0b1-8f5d4df4f2a9",
   "metadata": {},
   "outputs": [],
   "source": [
    "result2 = np.power(Z, 3)\n",
    "print(f\"Method 2 (np.power): First 5 elements: {result2[:5]}\")"
   ]
  },
  {
   "cell_type": "markdown",
   "id": "c0d27620-23d6-4ac6-b568-a9a78749386e",
   "metadata": {},
   "source": [
    "### methode 3 using the larg vector"
   ]
  },
  {
   "cell_type": "code",
   "execution_count": 7,
   "id": "9482626a-add7-417b-9c9e-cebaf0d9c122",
   "metadata": {},
   "outputs": [
    {
     "name": "stdout",
     "output_type": "stream",
     "text": [
      "Method 3 (Z*Z*Z): First 5 elements: [0.04828268 0.2903036  0.00130017 0.8827013  0.81108805]\n"
     ]
    }
   ],
   "source": [
    "result3 = Z * Z * Z\n",
    "print(f\"Method 3 (Z*Z*Z): First 5 elements: {result3[:5]}\")"
   ]
  },
  {
   "cell_type": "markdown",
   "id": "d614fee4",
   "metadata": {},
   "source": [
    "#### 93. Consider two arrays A and B of shape (8,3) and (2,2). How to find rows of A that contain elements of each row of B regardless of the order of the elements in B? (★★★)"
   ]
  },
  {
   "cell_type": "code",
   "execution_count": 9,
   "id": "adfe5fd4-8c1b-469a-8576-f35d2faa26ee",
   "metadata": {},
   "outputs": [
    {
     "name": "stdout",
     "output_type": "stream",
     "text": [
      "Rows of A containing B[0] = [np.int64(1), np.int64(2)]: [0, 3, 6]\n",
      "Rows of A containing B[1] = [np.int64(8), np.int64(9)]: [2, 5, 7]\n"
     ]
    }
   ],
   "source": [
    "arrayA = np.array([[1, 2, 3],\n",
    "              [4, 5, 6],\n",
    "              [7, 8, 9],\n",
    "              [2, 1, 3],  \n",
    "              [5, 6, 7],\n",
    "              [8, 9, 1], \n",
    "              [3, 2, 1], \n",
    "              [9, 8, 7]])\n",
    "arrayB = np.array([[1, 2],\n",
    "              [8, 9]])\n",
    "B_sets = [set(row) for row in arrayB]\n",
    "A_sets = [set(row) for row in arrayA]\n",
    "\n",
    "for i, b_set in enumerate(B_sets):\n",
    "    matching_rows = []\n",
    "    for j, a_set in enumerate(A_sets):\n",
    "        if b_set.issubset(a_set):\n",
    "            matching_rows.append(j)\n",
    "    print(f\"Rows of A containing B[{i}] = {list(b_set)}: {matching_rows}\")"
   ]
  },
  {
   "cell_type": "markdown",
   "id": "b0eedca6",
   "metadata": {},
   "source": [
    "#### 94. Considering a 10x3 matrix, extract rows with unequal values (e.g. [2,2,3]) (★★★)"
   ]
  },
  {
   "cell_type": "code",
   "execution_count": 11,
   "id": "fc136ce2",
   "metadata": {},
   "outputs": [
    {
     "name": "stdout",
     "output_type": "stream",
     "text": [
      "Rows with all unequal values:\n",
      "[[ 1  2  3]\n",
      " [ 5  6  7]\n",
      " [ 2  3  4]\n",
      " [ 8  9 10]]\n",
      "\n",
      "Found 4 rows with unequal values\n"
     ]
    }
   ],
   "source": [
    "matrix = np.array([\n",
    "    [1, 2, 3],    \n",
    "    [4, 4, 4],    \n",
    "    [5, 6, 7],      \n",
    "    [8, 8, 9],      \n",
    "    [1, 1, 1],      \n",
    "    [2, 3, 4],      \n",
    "    [5, 5, 5],      \n",
    "    [6, 7, 6],      \n",
    "    [8, 9, 10],     \n",
    "    [1, 2, 2]       \n",
    "])\n",
    "# find rows where number of unique elements equals row length\n",
    "condition = [len(np.unique(row)) == len(row) for row in matrix]\n",
    "unequal_rows = matrix[condition]\n",
    "print(\"Rows with all unequal values:\")\n",
    "print(unequal_rows)\n",
    "print(f\"\\nFound {len(unequal_rows)} rows with unequal values\")"
   ]
  },
  {
   "cell_type": "markdown",
   "id": "a65ec1cf",
   "metadata": {},
   "source": [
    "#### 95. Convert a vector of ints into a matrix binary representation (★★★)"
   ]
  },
  {
   "cell_type": "markdown",
   "id": "a46e39b2-6df3-4760-8147-17e8441b8b2a",
   "metadata": {},
   "source": [
    "### np.unpackbits()"
   ]
  },
  {
   "cell_type": "code",
   "execution_count": 12,
   "id": "323cdf4c",
   "metadata": {},
   "outputs": [
    {
     "name": "stdout",
     "output_type": "stream",
     "text": [
      "Original vector: [ 5  3 10  7]\n",
      "Binary matrix (8 bits per number):\n",
      "[[0 0 0 0 0 1 0 1]\n",
      " [0 0 0 0 0 0 1 1]\n",
      " [0 0 0 0 1 0 1 0]\n",
      " [0 0 0 0 0 1 1 1]]\n",
      "Shape: (4, 8)\n"
     ]
    }
   ],
   "source": [
    "vector = np.array([5, 3, 10, 7])\n",
    "print(\"Original vector:\", vector)\n",
    "binary_matrix = np.unpackbits(vector.astype(np.uint8).reshape(-1, 1), axis=1)\n",
    "print(\"Binary matrix (8 bits per number):\")\n",
    "print(binary_matrix)\n",
    "print(f\"Shape: {binary_matrix.shape}\")"
   ]
  },
  {
   "cell_type": "markdown",
   "id": "75b9397f",
   "metadata": {},
   "source": [
    "#### 96. Given a two dimensional array, how to extract unique rows? (★★★)"
   ]
  },
  {
   "cell_type": "code",
   "execution_count": 13,
   "id": "9bb56a47",
   "metadata": {},
   "outputs": [
    {
     "name": "stdout",
     "output_type": "stream",
     "text": [
      "Original array:\n",
      "[[1 2 3]\n",
      " [4 5 6]\n",
      " [1 2 3]\n",
      " [7 8 9]\n",
      " [4 5 6]\n",
      " [1 2 3]]\n",
      "[[1 2 3]\n",
      " [4 5 6]\n",
      " [7 8 9]]\n"
     ]
    }
   ],
   "source": [
    "array = np.array([\n",
    "    [1, 2, 3],\n",
    "    [4, 5, 6],\n",
    "    [1, 2, 3],  \n",
    "    [7, 8, 9],\n",
    "    [4, 5, 6], \n",
    "    [1, 2, 3]  \n",
    "])\n",
    "print(\"Original array:\")\n",
    "print(array)\n",
    "unique_rows = np.unique(array, axis=0)\n",
    "print(unique_rows)"
   ]
  },
  {
   "cell_type": "markdown",
   "id": "82aaf21b",
   "metadata": {},
   "source": [
    "#### 97. Considering 2 vectors A & B, write the einsum equivalent of inner, outer, sum, and mul function (★★★)"
   ]
  },
  {
   "cell_type": "code",
   "execution_count": 17,
   "id": "cedcefd9",
   "metadata": {},
   "outputs": [
    {
     "name": "stdout",
     "output_type": "stream",
     "text": [
      "INNER PRODUCT\n",
      "np.inner(A, B)  = 32\n",
      "np.einsum('i,i->', A, B) = 32\n",
      "Match: True\n",
      "OUTER PRODUCT\n",
      "np.outer(A, B) =\n",
      "[[ 4  5  6]\n",
      " [ 8 10 12]\n",
      " [12 15 18]]\n",
      "np.einsum('i,j->ij', A, B) =\n",
      "[[ 4  5  6]\n",
      " [ 8 10 12]\n",
      " [12 15 18]]\n",
      "Match: True\n",
      "ELEMENT-WISE MULTIPLICATION\n",
      "A * B = [ 4 10 18]\n",
      "np.einsum('i,i->i', A, B) = [ 4 10 18]\n",
      "Match: True\n",
      " SUM OF ELEMENTS \n",
      "np.sum(A) = 6\n",
      "np.einsum('i->', A) = 6\n",
      "Match: True\n"
     ]
    }
   ],
   "source": [
    "A = np.array([1, 2, 3])\n",
    "B = np.array([4, 5, 6])\n",
    "print(\"INNER PRODUCT\")\n",
    "inner_standard = np.inner(A, B)\n",
    "print(f\"np.inner(A, B)  = {inner_standard}\")\n",
    "inner_einsum = np.einsum('i,i->', A, B)\n",
    "print(f\"np.einsum('i,i->', A, B) = {inner_einsum}\")\n",
    "print(f\"Match: {np.allclose(inner_standard, inner_einsum)}\")\n",
    "\n",
    "print(\"OUTER PRODUCT\")\n",
    "outer_standard = np.outer(A, B)\n",
    "print(f\"np.outer(A, B) =\\n{outer_standard}\")\n",
    "outer_einsum = np.einsum('i,j->ij', A, B)\n",
    "print(f\"np.einsum('i,j->ij', A, B) =\\n{outer_einsum}\")\n",
    "print(f\"Match: {np.array_equal(outer_standard, outer_einsum)}\")\n",
    "\n",
    "print(\"ELEMENT-WISE MULTIPLICATION\")\n",
    "mul_standard = A * B\n",
    "print(f\"A * B = {mul_standard}\")\n",
    "mul_einsum = np.einsum('i,i->i', A, B)\n",
    "print(f\"np.einsum('i,i->i', A, B) = {mul_einsum}\")\n",
    "print(f\"Match: {np.array_equal(mul_standard, mul_einsum)}\")\n",
    "\n",
    "print(\" SUM OF ELEMENTS \")\n",
    "sum_standard = np.sum(A)\n",
    "print(f\"np.sum(A) = {sum_standard}\")\n",
    "sum_einsum = np.einsum('i->', A)\n",
    "print(f\"np.einsum('i->', A) = {sum_einsum}\")\n",
    "print(f\"Match: {np.allclose(sum_standard, sum_einsum)}\")"
   ]
  },
  {
   "cell_type": "markdown",
   "id": "7741e17f",
   "metadata": {},
   "source": [
    "#### 98. Considering a path described by two vectors (X,Y), how to sample it using equidistant samples (★★★)?"
   ]
  },
  {
   "cell_type": "markdown",
   "id": "9092c139-d35f-479e-b515-4008ef917371",
   "metadata": {},
   "source": [
    "### np.linspace()"
   ]
  },
  {
   "cell_type": "code",
   "execution_count": 18,
   "id": "6dfaf095-94d1-4311-a382-ea9442a94ac1",
   "metadata": {},
   "outputs": [
    {
     "name": "stdout",
     "output_type": "stream",
     "text": [
      "Original path:\n",
      "t: [ 0  1  3  6 10]\n",
      "X: [0 2 3 5 8]\n",
      "Y: [0 1 4 2 6]\n",
      "\n",
      "Equidistant samples (20 points):\n",
      "t_eq: [ 0.          0.52631579  1.05263158  1.57894737  2.10526316  2.63157895\n",
      "  3.15789474  3.68421053  4.21052632  4.73684211  5.26315789  5.78947368\n",
      "  6.31578947  6.84210526  7.36842105  7.89473684  8.42105263  8.94736842\n",
      "  9.47368421 10.        ]\n",
      "X_eq: [0.         1.05263158 2.02631579 2.28947368 2.55263158 2.81578947\n",
      " 3.10526316 3.45614035 3.80701754 4.15789474 4.50877193 4.85964912\n",
      " 5.23684211 5.63157895 6.02631579 6.42105263 6.81578947 7.21052632\n",
      " 7.60526316 8.        ]\n",
      "Y_eq: [0.         0.52631579 1.07894737 1.86842105 2.65789474 3.44736842\n",
      " 3.89473684 3.54385965 3.19298246 2.84210526 2.49122807 2.14035088\n",
      " 2.31578947 2.84210526 3.36842105 3.89473684 4.42105263 4.94736842\n",
      " 5.47368421 6.        ]\n"
     ]
    }
   ],
   "source": [
    "import numpy as np\n",
    "import matplotlib.pyplot as plt\n",
    "t = np.array([0, 1, 3, 6, 10])  \n",
    "X = np.array([0, 2, 3, 5, 8]) \n",
    "Y = np.array([0, 1, 4, 2, 6])  \n",
    "\n",
    "print(\"Original path:\")\n",
    "print(f\"t: {t}\")\n",
    "print(f\"X: {X}\")\n",
    "print(f\"Y: {Y}\")\n",
    "num_samples = 20\n",
    "t_equidistant = np.linspace(t[0], t[-1], num_samples)\n",
    "X_equidistant = np.interp(t_equidistant, t, X)\n",
    "Y_equidistant = np.interp(t_equidistant, t, Y)\n",
    "\n",
    "print(f\"\\nEquidistant samples ({num_samples} points):\")\n",
    "print(f\"t_eq: {t_equidistant}\")\n",
    "print(f\"X_eq: {X_equidistant}\")\n",
    "print(f\"Y_eq: {Y_equidistant}\")"
   ]
  },
  {
   "cell_type": "markdown",
   "id": "340d6f36",
   "metadata": {},
   "source": [
    "#### 99. Given an integer n and a 2D array X, select from X the rows which can be interpreted as draws from a multinomial distribution with n degrees, i.e., the rows which only contain integers and which sum to n. (★★★)"
   ]
  },
  {
   "cell_type": "code",
   "execution_count": 21,
   "id": "a75323ae",
   "metadata": {},
   "outputs": [
    {
     "name": "stdout",
     "output_type": "stream",
     "text": [
      "Original array X:\n",
      "[[1.  2.  1. ]\n",
      " [0.  3.  1. ]\n",
      " [2.5 1.  0.5]\n",
      " [4.  0.  0. ]\n",
      " [1.  1.  3. ]\n",
      " [2.  2.  0. ]\n",
      " [1.  1.  1. ]]\n",
      "\n",
      " Method 1: Rows that sum to 4 and contain only integers\n",
      "[[1. 2. 1.]\n",
      " [0. 3. 1.]\n",
      " [4. 0. 0.]\n",
      " [2. 2. 0.]]\n"
     ]
    }
   ],
   "source": [
    "X = np.array([\n",
    "    [1, 2, 1],      \n",
    "    [0, 3, 1],     \n",
    "    [2.5, 1, 0.5],  \n",
    "    [4, 0, 0],      \n",
    "    [1, 1, 3],    \n",
    "    [2, 2, 0],     \n",
    "    [1, 1, 1]      \n",
    "])\n",
    "n = 4  \n",
    "print(\"Original array X:\")\n",
    "print(X)\n",
    "mask = (np.sum(X, axis=1) == n) & np.all(X % 1 == 0, axis=1)\n",
    "multinomial_rows = X[mask]\n",
    "print(f\"\\n Method 1: Rows that sum to {n} and contain only integers\")\n",
    "print(multinomial_rows)"
   ]
  },
  {
   "cell_type": "markdown",
   "id": "19721849",
   "metadata": {},
   "source": [
    "#### 100. Compute bootstrapped 95% confidence intervals for the mean of a 1D array X (i.e., resample the elements of an array with replacement N times, compute the mean of each sample, and then compute percentiles over the means). (★★★)"
   ]
  },
  {
   "cell_type": "code",
   "execution_count": 23,
   "id": "87309c6f",
   "metadata": {},
   "outputs": [
    {
     "name": "stdout",
     "output_type": "stream",
     "text": [
      "Original data: [3.2 4.1 5.6 2.8 6.1 5.2 4.8 3.9 4.5 5.1]\n",
      "Original mean: 4.530\n",
      "\n",
      " Method 1: Simple Bootstrap\n",
      "Original mean: 4.530\n",
      "95% CI: [3.970, 5.170]\n",
      "Bootstrap means range: [3.440, 5.540]\n"
     ]
    }
   ],
   "source": [
    "import numpy as np\n",
    "X = np.array([3.2, 4.1, 5.6, 2.8, 6.1, 5.2, 4.8, 3.9, 4.5, 5.1])\n",
    "print(f\"Original data: {X}\")\n",
    "print(f\"Original mean: {np.mean(X):.3f}\")\n",
    "def bootstrap_ci_simple(X, n_bootstrap=1000, ci=95):\n",
    "    \"\"\"\n",
    "    Simple bootstrap confidence interval for the mean\n",
    "    \"\"\"\n",
    "    original_mean = np.mean(X)\n",
    "    bootstrap_means = []\n",
    "    \n",
    "    n = len(X)\n",
    "    for i in range(n_bootstrap):\n",
    "        bootstrap_sample = np.random.choice(X, size=n, replace=True)\n",
    "        bootstrap_mean = np.mean(bootstrap_sample)\n",
    "        bootstrap_means.append(bootstrap_mean)\n",
    "    bootstrap_means = np.array(bootstrap_means)\n",
    "    \n",
    "    # Calculate confidence interval\n",
    "    alpha = (100 - ci) / 2\n",
    "    lower_percentile = alpha\n",
    "    upper_percentile = 100 - alpha\n",
    "    \n",
    "    ci_lower = np.percentile(bootstrap_means, lower_percentile)\n",
    "    ci_upper = np.percentile(bootstrap_means, upper_percentile)\n",
    "    \n",
    "    return original_mean, ci_lower, ci_upper, bootstrap_means\n",
    "\n",
    "original_mean, ci_lower, ci_upper, bootstrap_means = bootstrap_ci_simple(X)\n",
    "\n",
    "print(f\"\\n Method 1: Simple Bootstrap\")\n",
    "print(f\"Original mean: {original_mean:.3f}\")\n",
    "print(f\"95% CI: [{ci_lower:.3f}, {ci_upper:.3f}]\")\n",
    "print(f\"Bootstrap means range: [{np.min(bootstrap_means):.3f}, {np.max(bootstrap_means):.3f}]\")"
   ]
  },
  {
   "cell_type": "code",
   "execution_count": null,
   "id": "d9a44cd1-edc5-4e36-a88c-706abea7a7be",
   "metadata": {},
   "outputs": [],
   "source": []
  }
 ],
 "metadata": {
  "kernelspec": {
   "display_name": "Python 3 (ipykernel)",
   "language": "python",
   "name": "python3"
  },
  "language_info": {
   "codemirror_mode": {
    "name": "ipython",
    "version": 3
   },
   "file_extension": ".py",
   "mimetype": "text/x-python",
   "name": "python",
   "nbconvert_exporter": "python",
   "pygments_lexer": "ipython3",
   "version": "3.10.18"
  }
 },
 "nbformat": 4,
 "nbformat_minor": 5
}
