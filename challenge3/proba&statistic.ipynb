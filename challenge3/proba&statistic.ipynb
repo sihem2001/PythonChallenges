{
 "cells": [
  {
   "cell_type": "markdown",
   "id": "a8e96187-0632-4395-bf81-f82bfb9e73be",
   "metadata": {},
   "source": [
    "# challenge 3 weather data "
   ]
  },
  {
   "cell_type": "code",
   "execution_count": 2,
   "id": "5539ea7f-c5ac-4453-8686-7a4d851c0094",
   "metadata": {},
   "outputs": [
    {
     "name": "stdout",
     "output_type": "stream",
     "text": [
      "Lines: ['2023-11-01 ,15, 5, 0.2\\n', '2023-11-02 ,17, 7, 1.5\\n', '2023-11-03 ,12, 3, 0\\n', '2023-11-04 ,18, 6, 0.8\\n', '2023-11-05 ,14, 4, 3.2\\n', '2023-11-06 ,16, 8, 0\\n', '2023-11-07 ,13, 2, 0.5\\n', '2023-11-08 ,19, 9, 2.1\\n', '2023-11-09 ,11, 1, 0.3\\n', '2023-11-10 ,17, 6, 1.2']\n"
     ]
    }
   ],
   "source": [
    "#Read a text file and count the number of lines, words, and characters.\n",
    "# Counting lines, words, and characters in a text file\n",
    "def count_text_file(file_path):\n",
    "    with open(file_path, 'r') as file:\n",
    "        lines = file.readlines()\n",
    "    return lines\n",
    "\n",
    "file_path = 'weather_data.txt'\n",
    "lines = count_text_file(file_path)\n",
    "print(f'Lines: {lines}')"
   ]
  },
  {
   "cell_type": "markdown",
   "id": "83eed1d2-4753-4301-b4d8-36dc3141e375",
   "metadata": {},
   "source": [
    "# Read the data from the file."
   ]
  },
  {
   "cell_type": "code",
   "execution_count": 3,
   "id": "1c568621-3e81-4d8d-acb7-ae35ffb97178",
   "metadata": {},
   "outputs": [
    {
     "name": "stdout",
     "output_type": "stream",
     "text": [
      "['2023-11-01 ,15, 5, 0.2\\n', '2023-11-02 ,17, 7, 1.5\\n', '2023-11-03 ,12, 3, 0\\n', '2023-11-04 ,18, 6, 0.8\\n', '2023-11-05 ,14, 4, 3.2\\n', '2023-11-06 ,16, 8, 0\\n', '2023-11-07 ,13, 2, 0.5\\n', '2023-11-08 ,19, 9, 2.1\\n', '2023-11-09 ,11, 1, 0.3\\n', '2023-11-10 ,17, 6, 1.2']\n"
     ]
    }
   ],
   "source": [
    "\n",
    "file_path = 'weather_data.txt'\n",
    "with open(file_path, 'r') as file:\n",
    "    lines = file.readlines()\n",
    "    print(lines)"
   ]
  },
  {
   "cell_type": "code",
   "execution_count": 4,
   "id": "758dd628-a8ab-430a-b0cc-4ee9068ee036",
   "metadata": {},
   "outputs": [],
   "source": [
    "lines = [line.strip() for line in lines]"
   ]
  },
  {
   "cell_type": "code",
   "execution_count": 5,
   "id": "2227375a-5bdd-41d5-accb-3a6af3da1a18",
   "metadata": {},
   "outputs": [
    {
     "name": "stdout",
     "output_type": "stream",
     "text": [
      "[['2023-11-01 ', '15', ' 5', ' 0.2'], ['2023-11-02 ', '17', ' 7', ' 1.5'], ['2023-11-03 ', '12', ' 3', ' 0'], ['2023-11-04 ', '18', ' 6', ' 0.8'], ['2023-11-05 ', '14', ' 4', ' 3.2'], ['2023-11-06 ', '16', ' 8', ' 0'], ['2023-11-07 ', '13', ' 2', ' 0.5'], ['2023-11-08 ', '19', ' 9', ' 2.1'], ['2023-11-09 ', '11', ' 1', ' 0.3'], ['2023-11-10 ', '17', ' 6', ' 1.2']]\n"
     ]
    }
   ],
   "source": [
    "rows = [line.split(',')for line in lines]\n",
    "print(rows)\n"
   ]
  },
  {
   "cell_type": "markdown",
   "id": "6eccad2f-e9b1-43b1-a6c9-a217e969a875",
   "metadata": {},
   "source": [
    "# split  max_temp  , min_temp , precipitation in unique liste"
   ]
  },
  {
   "cell_type": "code",
   "execution_count": 6,
   "id": "b4b67ee0-9e58-4d99-acb1-3a986819b100",
   "metadata": {},
   "outputs": [
    {
     "name": "stdout",
     "output_type": "stream",
     "text": [
      "['15', '17', '12', '18', '14', '16', '13', '19', '11', '17']\n"
     ]
    }
   ],
   "source": [
    "max_temp = [row [1] for row in rows ]\n",
    "print(max_temp)"
   ]
  },
  {
   "cell_type": "code",
   "execution_count": 7,
   "id": "145741f1-80aa-411e-87a1-28ea5523d090",
   "metadata": {},
   "outputs": [
    {
     "name": "stdout",
     "output_type": "stream",
     "text": [
      "[' 5', ' 7', ' 3', ' 6', ' 4', ' 8', ' 2', ' 9', ' 1', ' 6']\n"
     ]
    }
   ],
   "source": [
    "min_temp = [row [2] for row in rows]\n",
    "print(min_temp )"
   ]
  },
  {
   "cell_type": "code",
   "execution_count": 8,
   "id": "72a26d2c-f97e-4f27-9e00-7b2552cc88f7",
   "metadata": {},
   "outputs": [
    {
     "name": "stdout",
     "output_type": "stream",
     "text": [
      "[' 0.2', ' 1.5', ' 0', ' 0.8', ' 3.2', ' 0', ' 0.5', ' 2.1', ' 0.3', ' 1.2']\n"
     ]
    }
   ],
   "source": [
    "precipitation = [row [3] for row in rows ]\n",
    "print(precipitation)"
   ]
  },
  {
   "cell_type": "markdown",
   "id": "aa6bdb31-64d1-4d74-b36e-058229f9b3db",
   "metadata": {},
   "source": [
    "# Calculate the average maximum, minimum temperature, and total precipitation for a given period."
   ]
  },
  {
   "cell_type": "markdown",
   "id": "97431b7d-6f6b-4f43-af31-f78edde4d067",
   "metadata": {},
   "source": [
    "# 1- average maximum"
   ]
  },
  {
   "cell_type": "code",
   "execution_count": 9,
   "id": "005749a4-353d-4777-a97d-533237af662e",
   "metadata": {},
   "outputs": [
    {
     "name": "stdout",
     "output_type": "stream",
     "text": [
      "['15', '17', '12', '18', '14', '16', '13', '19', '11', '17']\n",
      "10\n",
      "[15.0, 17.0, 12.0, 18.0, 14.0, 16.0, 13.0, 19.0, 11.0, 17.0]\n"
     ]
    },
    {
     "ename": "NameError",
     "evalue": "name 'floatTemp' is not defined",
     "output_type": "error",
     "traceback": [
      "\u001b[1;31m---------------------------------------------------------------------------\u001b[0m",
      "\u001b[1;31mNameError\u001b[0m                                 Traceback (most recent call last)",
      "Cell \u001b[1;32mIn[9], line 7\u001b[0m\n\u001b[0;32m      5\u001b[0m floatTempMax \u001b[38;5;241m=\u001b[39m [\u001b[38;5;28mfloat\u001b[39m(temp) \u001b[38;5;28;01mfor\u001b[39;00m temp \u001b[38;5;129;01min\u001b[39;00m max_temp]\n\u001b[0;32m      6\u001b[0m \u001b[38;5;28mprint\u001b[39m(floatTempMax )\n\u001b[1;32m----> 7\u001b[0m sumMaxTemp \u001b[38;5;241m=\u001b[39m \u001b[38;5;28msum\u001b[39m ( temp \u001b[38;5;28;01mfor\u001b[39;00m temp \u001b[38;5;129;01min\u001b[39;00m \u001b[43mfloatTemp\u001b[49m)\n\u001b[0;32m      8\u001b[0m \u001b[38;5;28mprint\u001b[39m(sumMaxTemp)\n\u001b[0;32m      9\u001b[0m avg_max_temp \u001b[38;5;241m=\u001b[39m sumMaxTemp  \u001b[38;5;241m/\u001b[39m length_max_temp \n",
      "\u001b[1;31mNameError\u001b[0m: name 'floatTemp' is not defined"
     ]
    }
   ],
   "source": [
    "print(max_temp)\n",
    "# length_max_temp = max_temp.length()\n",
    "length_max_temp = len(max_temp)\n",
    "print(length_max_temp)\n",
    "floatTempMax = [float(temp) for temp in max_temp]\n",
    "print(floatTempMax )\n",
    "sumMaxTemp = sum ( temp for temp in floatTemp)\n",
    "print(sumMaxTemp)\n",
    "avg_max_temp = sumMaxTemp  / length_max_temp \n",
    "print(\"the average max temperature is: \")\n",
    "print(avg_max_temp )"
   ]
  },
  {
   "cell_type": "markdown",
   "id": "845e640a-2e28-413d-bbd0-8cf716c60f3d",
   "metadata": {},
   "source": [
    "# 2- average minimum "
   ]
  },
  {
   "cell_type": "code",
   "execution_count": 10,
   "id": "bec746f5-8f4d-4c89-af63-e1cd9961b723",
   "metadata": {},
   "outputs": [
    {
     "name": "stdout",
     "output_type": "stream",
     "text": [
      "[' 5', ' 7', ' 3', ' 6', ' 4', ' 8', ' 2', ' 9', ' 1', ' 6']\n",
      "10\n",
      "[5.0, 7.0, 3.0, 6.0, 4.0, 8.0, 2.0, 9.0, 1.0, 6.0]\n",
      "51.0\n",
      "the average min temperature is : \n",
      "5.1\n"
     ]
    }
   ],
   "source": [
    "print(min_temp)\n",
    "length_min_temp = len(min_temp)\n",
    "print(length_min_temp)\n",
    "# convert string to float\n",
    "floatTempMin = [float(temp) for temp in min_temp]\n",
    "print(floatTempMin)\n",
    "# sum \n",
    "sumMinTemp = sum ( temp for temp in floatTempMin)\n",
    "print(sumMinTemp)\n",
    "# avrg\n",
    "avg_min_temp = sumMinTemp / length_min_temp\n",
    "print(\"the average min temperature is : \")\n",
    "print(avg_min_temp)"
   ]
  },
  {
   "cell_type": "markdown",
   "id": "1054400c-f1c1-48eb-97ab-d7c26506db59",
   "metadata": {},
   "source": [
    "# 3- Totale Precepitation"
   ]
  },
  {
   "cell_type": "code",
   "execution_count": 11,
   "id": "696c59ea-38b9-49ec-8f81-475bf5df4bc8",
   "metadata": {},
   "outputs": [
    {
     "name": "stdout",
     "output_type": "stream",
     "text": [
      "[' 0.2', ' 1.5', ' 0', ' 0.8', ' 3.2', ' 0', ' 0.5', ' 2.1', ' 0.3', ' 1.2']\n",
      "[0.2, 1.5, 0.0, 0.8, 3.2, 0.0, 0.5, 2.1, 0.3, 1.2]\n",
      "the totale precepitation is : \n",
      "9.8\n"
     ]
    }
   ],
   "source": [
    "print(precipitation)\n",
    "# convert to float \n",
    "floaTPrecipitation = [float(precip) for precip in precipitation]\n",
    "print(floaTPrecipitation)\n",
    "# totale sum\n",
    "totale_precipitation = sum( precip for precip in floaTPrecipitation)\n",
    "print(\"the totale precepitation is : \")\n",
    "print(totale_precipitation)"
   ]
  },
  {
   "cell_type": "markdown",
   "id": "371efff3-9cd0-4cd1-a8d8-eb94496c9b88",
   "metadata": {},
   "source": [
    "# 4- Determine the number of rainy days (precipitation > 0)"
   ]
  },
  {
   "cell_type": "code",
   "execution_count": 12,
   "id": "ea81aeb6-b5bf-458e-97cb-cbe3a782c5ef",
   "metadata": {},
   "outputs": [
    {
     "name": "stdout",
     "output_type": "stream",
     "text": [
      "The number of rainy days where precipitation > 0 is: 8\n"
     ]
    }
   ],
   "source": [
    "count = 0\n",
    "for precip in floaTPrecipitation:\n",
    "    if precip > 0: \n",
    "        count += 1\n",
    "print(\"The number of rainy days where precipitation > 0 is:\", count)"
   ]
  },
  {
   "cell_type": "markdown",
   "id": "2ed59293-f41d-4b82-a927-7ccf6b61ddd5",
   "metadata": {},
   "source": [
    "# 5- Find the highest and lowest recorded temperatures."
   ]
  },
  {
   "cell_type": "code",
   "execution_count": 13,
   "id": "803e4252-2f95-47a4-a1ba-4c482cd8b180",
   "metadata": {},
   "outputs": [
    {
     "name": "stdout",
     "output_type": "stream",
     "text": [
      "we find the highest comparing to hight values so we use floatTempmax :  [15.0, 17.0, 12.0, 18.0, 14.0, 16.0, 13.0, 19.0, 11.0, 17.0]\n",
      "we find the lowest comparing to low values so we use floatTempMin :  [5.0, 7.0, 3.0, 6.0, 4.0, 8.0, 2.0, 9.0, 1.0, 6.0]\n",
      "The highest maximum temperature recorded was: 19.0\n",
      "The lowest minimum temperature recorded was: 1.0\n"
     ]
    }
   ],
   "source": [
    "print(\"we find the highest comparing to hight values so we use floatTempmax : \",floatTempMax)\n",
    "print(\"we find the lowest comparing to low values so we use floatTempMin : \",floatTempMin)\n",
    "print(\"The highest maximum temperature recorded was:\", max(floatTempMax))\n",
    "print(\"The lowest minimum temperature recorded was:\", min(floatTempMin))"
   ]
  },
  {
   "cell_type": "markdown",
   "id": "db3ccbcd-6248-42ae-951f-4fbc46904c11",
   "metadata": {},
   "source": [
    "# function that do this "
   ]
  },
  {
   "cell_type": "code",
   "execution_count": 16,
   "id": "5de6d100-0d3c-4b99-ab0d-536bba720dd3",
   "metadata": {},
   "outputs": [
    {
     "name": "stdout",
     "output_type": "stream",
     "text": [
      "Average Maximum Temperature: 15.20°C\n",
      "Average Minimum Temperature: 5.10°C\n",
      "Total Precipitation: 9.8 mm\n",
      "Number of Rainy Days: 8\n",
      "Highest Recorded Temperature: 19.0°C\n",
      "Lowest Recorded Temperature: 1.0°C\n"
     ]
    }
   ],
   "source": [
    "def weather_function(filename):\n",
    "\n",
    "    with open(filename, 'r') as file:\n",
    "        lines = file.readlines()\n",
    "    rows = []\n",
    "    for line in lines:\n",
    "        line = line.strip()\n",
    "        if line: \n",
    "            parts = line.split(',')\n",
    "            if len(parts) == 4: \n",
    "                rows.append(parts)\n",
    "\n",
    "    max_temp = [row[1] for row in rows]\n",
    "    min_temp = [row[2] for row in rows]\n",
    "    precipitation = [row[3] for row in rows]\n",
    "\n",
    "\n",
    "    floatTempMax = [float(temp) for temp in max_temp]\n",
    "    floatTempMin = [float(temp) for temp in min_temp]\n",
    "    floatPrecipitation = [float(precip) for precip in precipitation]\n",
    "\n",
    "\n",
    "    sumMaxTemp = sum(floatTempMax)\n",
    "    avgMaxTemp = sumMaxTemp / len(floatTempMax)\n",
    "    \n",
    "    sumMinTemp = sum(floatTempMin)\n",
    "    avgMinTemp = sumMinTemp / len(floatTempMin)\n",
    "\n",
    "    totalPrecipitation = sum(floatPrecipitation)\n",
    "    count = 0\n",
    "    for precip in floatPrecipitation:\n",
    "        if precip > 0:\n",
    "            count += 1\n",
    "            \n",
    "\n",
    "    highest_max = max(floatTempMax)\n",
    "    lowest_min = min(floatTempMin)\n",
    "\n",
    "    print(f\"Average Maximum Temperature: {avgMaxTemp:.2f}°C\")\n",
    "    print(f\"Average Minimum Temperature: {avgMinTemp:.2f}°C\")\n",
    "    print(f\"Total Precipitation: {totalPrecipitation:.1f} mm\")\n",
    "    print(f\"Number of Rainy Days: {count}\")\n",
    "    print(f\"Highest Recorded Temperature: {highest_max}°C\")\n",
    "    print(f\"Lowest Recorded Temperature: {lowest_min}°C\")\n",
    "  \n",
    "\n",
    "weather_function('weather_data.txt')"
   ]
  },
  {
   "cell_type": "code",
   "execution_count": null,
   "id": "f8c03986-7584-4d1c-96ba-ec1d3ba9bcb1",
   "metadata": {},
   "outputs": [],
   "source": []
  },
  {
   "cell_type": "code",
   "execution_count": null,
   "id": "e2826078-367d-4380-b56b-8e98a446991d",
   "metadata": {},
   "outputs": [],
   "source": []
  }
 ],
 "metadata": {
  "kernelspec": {
   "display_name": "Python 3 (ipykernel)",
   "language": "python",
   "name": "python3"
  },
  "language_info": {
   "codemirror_mode": {
    "name": "ipython",
    "version": 3
   },
   "file_extension": ".py",
   "mimetype": "text/x-python",
   "name": "python",
   "nbconvert_exporter": "python",
   "pygments_lexer": "ipython3",
   "version": "3.10.18"
  }
 },
 "nbformat": 4,
 "nbformat_minor": 5
}
